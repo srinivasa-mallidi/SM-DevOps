{
 "cells": [
  {
   "cell_type": "markdown",
   "id": "a44ddfdd-2d85-48df-905a-03ba1fd8657c",
   "metadata": {},
   "source": [
    "## Kubernetes\n",
    "\n",
    "* Kubernetes (K8s) is an open source container orchestration platform developed by Google.\n",
    "* \tIt is designed to automate the development, scaling, and management of containerized applications across a cluster of nodes\n",
    "* •\tKubernetes provides a consistent and reliable way to manage applications, regardless of whether they are running on-premises, in the cloud, or in hybrid environments.\r\n"
   ]
  },
  {
   "cell_type": "markdown",
   "id": "0e5db4aa-96e3-4e14-8162-962e05649cc2",
   "metadata": {},
   "source": [
    "## Microservices  \n",
    "* Microservice are a software architecture pattern that structures applications as a collection of small, independently deployable services.\n",
    "* Each microservice is designed to perform a specific function or business capability and communicates with other services over well-defined APIs or protocols\n"
   ]
  },
  {
   "attachments": {},
   "cell_type": "markdown",
   "id": "ac43db4d-697b-4a41-8b5d-97a42f3e6098",
   "metadata": {},
   "source": [
    "## Architecture and Components of Kubernetes\n"
   ]
  },
  {
   "cell_type": "markdown",
   "id": "a4e3a0da-456c-4333-b705-a0df8fc69cd2",
   "metadata": {},
   "source": [
    "<img src=\"images/1.svg\" alt=\"image not loaded\">\n",
    "(source:https://kubernetes.io/images/docs/components-of-kubernetes.svg)"
   ]
  },
  {
   "cell_type": "markdown",
   "id": "cd0683d4-7215-4c02-8681-5f382b016f4d",
   "metadata": {},
   "source": [
    "Kubernetes follows a master-slave architecture model, where different components play specific roles in managing and maintaining the cluster.\n",
    "# MasterNode\n",
    "* The master node acts as the control plane for the Kubernetes cluster.\n",
    "* It oversees the entire cluster and manages its workload.\n",
    "* Components running on the master node include:\n",
    "* * <b>API Server:</b> Acts as the front-end for Kubernetes. The API server is responsible for handling all administrative tasks and management operations within the cluster via a RESTful API.\n",
    "  * <b>Scheduler:</b> Monitors newly created pods and assigns them to nodes based on resource availability, workload requirements, and other constraints.\n",
    "  * <b>Controller Manager:</b> Manages different non-terminating control loops that regulate the state of the cluster. Examples include node controllers, replication controllers, endpoints controller, and service account & token controllers.\n",
    "  * <b>etcd:</b> A distributed key-value store that stores the configuration data of the cluster, representing the cluster’s state at any given time. It is critical for maintaining cluster state and configuration.\n",
    "\n",
    "\n",
    "# WorkerNode\n",
    "* Worker nodes host the application containers and other Kubernetes components necessary for running pods, the smallest deployable units in Kubernetes.\n",
    "* Each node typically runs:\n",
    "* * <b>Kubelet:</b> An agent that runs on each node in the cluster. It ensures that containers are running in a Pod and handles communication between the Kubernetes control plane and the node.\n",
    "  * <b>Container Runtime:</b> The software responsible for running containers, such as Docker or containerd.\n",
    "  * <b>Kube-proxy:</b> Manages network routing for TCP, UDP, and SCTP packets. It enables Kubernetes services to be exposed to the network and provides load balancing for applications.\n",
    "  * <b>Pods:</b> The fundamental unit of Kubernetes, consisting of one or more containers deployed together on a single node.\n"
   ]
  },
  {
   "cell_type": "markdown",
   "id": "03999345-cefb-4951-a5c0-c0164841b15a",
   "metadata": {},
   "source": [
    "# Components of Kubernetes\n",
    "\n",
    "Beyond the architectural components, Kubernetes is built around several key concepts and components that define its functionality and operational capabilities:\n",
    "\n",
    "* <b>Pods:</b> The basic building block in Kubernetes, encapsulating one or more containers (typically tightly coupled) that share storage, network, and configuration.\n",
    "* <b>Services:</b> An abstraction that defines a set of pods and how to access them. It enables load balancing and service discovery for pods.\n",
    "* <b>Deployments:</b> A declarative approach to managing pods and replica sets. Deployments allow you to describe the desired state for your application and Kubernetes ensures that the current state matches the desired state.\n",
    "* <b>Volumes:</b> Storage abstraction that provides persistence for container data beyond the life of the pod.\n",
    "* <b>Namespace:</b> A logical partition within a Kubernetes cluster used to create multiple virtual clusters within the same physical cluster, providing isolation and a scope for resources.\n",
    "* <b>ConfigMaps and Secrets:</b> Kubernetes resources for storing configuration settings and sensitive data securely.\n",
    "* <b>Labels and Selectors:</b> Key-value pairs attached to objects (like pods) to identify and select subsets of objects for various operations.\n",
    "* <b>Controllers:</b> Kubernetes uses controllers to ensure that the cluster remains in its desired state. Controllers like ReplicaSets, StatefulSets, DaemonSets, and Jobs manage pods and other resources to ensure availability, scalability, and reliability."
   ]
  },
  {
   "cell_type": "markdown",
   "id": "56e6b7a9-62cb-4bd5-8d61-eeba1e8f489e",
   "metadata": {},
   "source": [
    "## Pod\n",
    "\n",
    "Pod is the smallest deployable unit in Kubernetes, representing a single instance of an application. It can contain one or more tightly coupled containers that share resources such as storage and networking.\n"
   ]
  },
  {
   "cell_type": "raw",
   "id": "f6aa6fa1-f0cd-4310-bb89-44f38b3dfb94",
   "metadata": {},
   "source": [
    "apiVersion: v1\n",
    "kind: Pod\n",
    "metadata:\n",
    "  name: nginx-pod\n",
    "  labels:\n",
    "    app: nginx\n",
    "spec:\n",
    "  containers:\n",
    "  - name: nginx-container\n",
    "    image: nginx:latest\n",
    "    ports:\n",
    "    - containerPort: 80\n"
   ]
  },
  {
   "cell_type": "markdown",
   "id": "117ff935-c7ed-43fa-a773-63d6043b2f24",
   "metadata": {},
   "source": [
    "* <b>apiVersion:</b> Specifies the Kubernetes API version being used (v1 for Kubernetes core resources).\n",
    "* <b>kind:</b> Defines the type of Kubernetes resource (Pod in this case).\n",
    "* <b>metadata:</b> Contains information about the Pod, including its name and labels.\n",
    "* <b>spec:</b> Defines the specification for the Pod.\n",
    "  * <b>containers:</b> Specifies the containers to run within the Pod.\n",
    "    * <b>name:</b> Name of the container (nginx-container).\n",
    "    * <b>image:</b> Docker image to use for the container (nginx:latest).\n",
    "    * <b>ports:</b> Exposes port 80 on the container."
   ]
  },
  {
   "cell_type": "markdown",
   "id": "4c73e831-86ec-4d87-9121-df62f18e7a56",
   "metadata": {},
   "source": [
    "## Deployment\n",
    "\n",
    "Deployment manages the lifecycle of Pods and ReplicaSets (which ensures a specified number of identical Pods are running). It provides declarative updates to applications, allowing you to describe the desired state for your Pods.\n",
    "\n",
    "i.e : Manages the lifecycle and scaling of Pods, ensuring the desired number of Pods are running."
   ]
  },
  {
   "cell_type": "raw",
   "id": "5909b731-44e4-4e6a-93d2-76479fc890e6",
   "metadata": {},
   "source": [
    "apiVersion: apps/v1\n",
    "kind: Deployment\n",
    "metadata:\n",
    "  name: nginx-deployment\n",
    "spec:\n",
    "  replicas: 3\n",
    "  selector:\n",
    "    matchLabels:\n",
    "      app: nginx\n",
    "  template:\n",
    "    metadata:\n",
    "      labels:\n",
    "        app: nginx\n",
    "    spec:\n",
    "      containers:\n",
    "      - name: nginx-container\n",
    "        image: nginx:latest\n",
    "        ports:\n",
    "        - containerPort: 80\n"
   ]
  },
  {
   "cell_type": "markdown",
   "id": "1919285a-64c3-4b3a-9aae-cdb798aea3a1",
   "metadata": {},
   "source": [
    "-   **apiVersion**: Specifies the Kubernetes API version (`apps/v1` for Deployment).\n",
    "-   **kind**: Defines the type of Kubernetes resource (`Deployment`).\n",
    "-   **metadata**: Contains metadata about the Deployment (e.g., name).\n",
    "-   **spec**: Defines the desired state for the Deployment.\n",
    "    -   **replicas**: Specifies the desired number of Pods (`3` replicas).\n",
    "    -   **selector**: Specifies how the Deployment identifies which Pods to manage.\n",
    "    -   **template**: Defines the Pod template used by the Deployment.\n",
    "        -   **metadata**: Labels to be applied to the Pods.\n",
    "        -   **spec**: Specification of the Pods.\n",
    "            -   **containers**: Specifies the containers to run within each Pod.\n",
    "                -   **name**: Name of the container (`nginx-container`).\n",
    "                -   **image**: Docker image to use for the container (`nginx:latest`).\n",
    "                -   **ports**: Exposes port 80 on the container."
   ]
  },
  {
   "cell_type": "markdown",
   "id": "25c8f30d-3657-451e-bd01-a0291f608031",
   "metadata": {},
   "source": [
    "## ReplicaSet\n",
    "\n",
    "ReplicaSet ensures that a specified number of identical Pods are running at any given time. It is often created and managed by Deployments, which use ReplicaSets to manage the lifecycle of Pods."
   ]
  },
  {
   "cell_type": "raw",
   "id": "4a21aaeb-c8bc-43b5-8099-3f4fe8ed8d60",
   "metadata": {},
   "source": [
    "apiVersion: apps/v1\n",
    "kind: ReplicaSet\n",
    "metadata:\n",
    "  name: nginx-replicaset\n",
    "spec:\n",
    "  replicas: 3\n",
    "  selector:\n",
    "    matchLabels:\n",
    "      app: nginx\n",
    "  template:\n",
    "    metadata:\n",
    "      labels:\n",
    "        app: nginx\n",
    "    spec:\n",
    "      containers:\n",
    "      - name: nginx-container\n",
    "        image: nginx:latest\n",
    "        ports:\n",
    "        - containerPort: 80\n"
   ]
  },
  {
   "cell_type": "markdown",
   "id": "08ef76fc-0d33-43df-acb9-a571b95df6a9",
   "metadata": {},
   "source": [
    "-   **apiVersion**: Specifies the Kubernetes API version (`apps/v1` for ReplicaSet).\n",
    "-   **kind**: Defines the type of Kubernetes resource (`ReplicaSet`).\n",
    "-   **metadata**: Contains metadata about the ReplicaSet (e.g., name).\n",
    "-   **spec**: Defines the desired state for the ReplicaSet.\n",
    "    -   **replicas**: Specifies the desired number of Pods (`3` replicas).\n",
    "    -   **selector**: Specifies how the ReplicaSet identifies which Pods to manage.\n",
    "    -   **template**: Defines the Pod template used by the ReplicaSet (similar to Deployment)."
   ]
  },
  {
   "attachments": {},
   "cell_type": "markdown",
   "id": "5a11afba-bd8d-4ff1-98ae-d453e5bff652",
   "metadata": {},
   "source": [
    "## Kubernetes Services"
   ]
  },
  {
   "cell_type": "markdown",
   "id": "da2584b3-656d-4942-a8bb-89d48f8ed2f4",
   "metadata": {},
   "source": [
    "Kubernetes Services are an abstraction that define a logical set of Pods and a policy by which to access them. Services enable communication between different components in a Kubernetes application. They provide stable IP addresses, DNS names, and load balancing across the Pods."
   ]
  },
  {
   "cell_type": "markdown",
   "id": "5eee7caf-dbe3-4bd7-a165-07de6423ca3e",
   "metadata": {},
   "source": [
    "<img src=\"images/2.png\" alt=\"image not loaded\" />"
   ]
  },
  {
   "cell_type": "markdown",
   "id": "14b71e5f-7166-454f-9b7e-2b8bdbb891fd",
   "metadata": {},
   "source": [
    "#### Key Concepts\r\n",
    "\r\n",
    "1.  **Service Types**: Kubernetes supports different types of Services based on their use case:\r\n",
    "\r\n",
    "    -   **ClusterIP**: Exposes the Service on a cluster-internal IP. This is the default type and makes the Service only reachable from within the cluster.\r\n",
    "    -   **NodePort**: Exposes the Service on each Node's IP at a static port. This allows external traffic to access the Service by contacting the Node's IP and specified port.\r\n",
    "    -   **LoadBalancer**: Exposes the Service externally using a cloud provider's load balancer.\r\n",
    "    -   **ExternalName**: Maps the Service to the contents of the `externalName` field by returning a CNAME record with its value. No proxying of any kind is set up.\r\n",
    "2.  **Selectors and Labels**: Services use label selectors to identify the Pods they should route traffic to. Pods are matched based on their labels.\r\n",
    "\r\n",
    "3.  **Endpoints**: An Endpoint is a set of IP addresses and ports that a Service routes to. Kubernetes automatically creates Endpoints objects when the Service selectors match running Pods.\r\n",
    "\r\n",
    "4.  **DNS**: Kubernetes offers a built-in DNS service, which automatically assigns DNS names to Services. Pods can resolve the Service name to the Service's ClusterIP."
   ]
  },
  {
   "cell_type": "markdown",
   "id": "5ce6f97e-6753-4daf-a78f-2622fa6202b0",
   "metadata": {},
   "source": [
    "#####  ClusterIP (default)\n",
    "\n",
    "-   **Usage**: Internal communication within the cluster.\n",
    "-   **Configuration**:"
   ]
  },
  {
   "cell_type": "raw",
   "id": "b1910294-176e-4727-9785-184473ef0302",
   "metadata": {},
   "source": [
    "apiVersion: v1\n",
    "kind: Service\n",
    "metadata:\n",
    "  name: my-service\n",
    "spec:\n",
    "  selector:\n",
    "    app: MyApp\n",
    "  ports:\n",
    "  - protocol: TCP\n",
    "    port: 80\n",
    "    targetPort: 9376\n"
   ]
  },
  {
   "cell_type": "markdown",
   "id": "9ace0f7b-66cb-494e-9e1f-3f767ce8ef31",
   "metadata": {},
   "source": [
    "-   **Description**: This Service will route traffic to Pods with the label `app=MyApp` on port 9376 internally within the cluster.\n",
    "\n",
    "#####  NodePort\n",
    "\n",
    "-   **Usage**: Exposes the Service on each Node's IP at a static port.\n",
    "-   **Configuration**"
   ]
  },
  {
   "cell_type": "raw",
   "id": "79784db8-cb1d-4315-bf0a-33b19f55e630",
   "metadata": {},
   "source": [
    "apiVersion: v1\n",
    "kind: Service\n",
    "metadata:\n",
    "  name: my-service\n",
    "spec:\n",
    "  type: NodePort\n",
    "  selector:\n",
    "    app: MyApp\n",
    "  ports:\n",
    "  - port: 80\n",
    "    targetPort: 9376\n",
    "    nodePort: 30007\n"
   ]
  },
  {
   "cell_type": "code",
   "execution_count": null,
   "id": "b9d7971c-6740-487d-8945-9bdf6995cbe6",
   "metadata": {},
   "outputs": [],
   "source": []
  },
  {
   "cell_type": "markdown",
   "id": "55b8bf98-d44e-4ad2-8735-acf915bd3de2",
   "metadata": {},
   "source": [
    "-   **Description**: This Service will route traffic to Pods with the label `app=MyApp` on port 9376 and expose it on port 30007 of each Node's IP.\r\n",
    "#####  LoadBalancerer\r\n",
    "\r\n",
    "-   **Usage**: Exposes the Service externally using a cloud provider's load balancer.\r\n",
    "-   **Configuration**"
   ]
  },
  {
   "cell_type": "raw",
   "id": "da9cfb96-6d3a-4d30-a727-8b1ad6d7c6e6",
   "metadata": {},
   "source": [
    "apiVersion: v1\n",
    "kind: Service\n",
    "metadata:\n",
    "  name: my-service\n",
    "spec:\n",
    "  type: LoadBalancer\n",
    "  selector:\n",
    "    app: MyApp\n",
    "  ports:\n",
    "  - protocol: TCP\n",
    "    port: 80\n",
    "    targetPort: 9376\n"
   ]
  },
  {
   "cell_type": "markdown",
   "id": "e88006cb-d291-4c4b-a0cf-84390f0c9f2c",
   "metadata": {},
   "source": [
    "-   **Description**: This Service will route traffic to Pods with the label `app=MyApp` on port 9376 and expose it externally using a cloud provider's load balancer.\n",
    "\n",
    "#####  ExternalName\n",
    "\n",
    "-   **Usage**: Maps the Service to an external DNS name.\n",
    "-   **Configuration**"
   ]
  },
  {
   "cell_type": "raw",
   "id": "a78a2b45-20f3-4ae3-bbff-8149a8f40858",
   "metadata": {},
   "source": [
    "apiVersion: v1\n",
    "kind: Service\n",
    "metadata:\n",
    "  name: my-service\n",
    "spec:\n",
    "  type: ExternalName\n",
    "  externalName: my.database.example.com\n"
   ]
  },
  {
   "cell_type": "markdown",
   "id": "7764ba2d-6588-4607-ad05-f611b758a664",
   "metadata": {},
   "source": [
    "**Description**: This Service will route traffic to the DNS name `my.database.example.com`."
   ]
  },
  {
   "cell_type": "markdown",
   "id": "d321be29-79bc-4721-962e-627e24a7cd99",
   "metadata": {},
   "source": [
    "#### Advanced Concepts\r\n",
    "\r\n",
    "##### Headless Services\r\n",
    "\r\n",
    "-   **Usage**: Sometimes you don't need load balancing and a single service IP. For such cases, you can create headless services by setting the `ClusterIP` to `None`.\r\n",
    "-   **Configuration**"
   ]
  },
  {
   "cell_type": "raw",
   "id": "68699bf9-2852-4551-bc9b-e9604e2aeee2",
   "metadata": {},
   "source": [
    "apiVersion: v1\n",
    "kind: Service\n",
    "metadata:\n",
    "  name: headless-service\n",
    "spec:\n",
    "  clusterIP: None\n",
    "  selector:\n",
    "    app: MyApp\n",
    "  ports:\n",
    "  - protocol: TCP\n",
    "    port: 80\n",
    "    targetPort: 9376\n"
   ]
  },
  {
   "cell_type": "markdown",
   "id": "9a70b545-bdb5-4ce9-9176-487005973c99",
   "metadata": {},
   "source": [
    "-   **Description**: This Service will directly return the IPs of the Pods selected by the label `app=MyApp`.\n",
    "\n",
    "##### Service Without Selectors\n",
    "\n",
    "-   **Usage**: You can create a Service without specifying selectors. In this case, you manually define Endpoints.\n",
    "-   **Configuration**"
   ]
  },
  {
   "cell_type": "raw",
   "id": "f02d66c0-fc6a-4d31-8051-a927b18b4d56",
   "metadata": {},
   "source": [
    "apiVersion: v1\n",
    "kind: Service\n",
    "metadata:\n",
    "  name: my-service\n",
    "spec:\n",
    "  ports:\n",
    "  - protocol: TCP\n",
    "    port: 80\n",
    "    targetPort: 9376\n",
    "---\n",
    "apiVersion: v1\n",
    "kind: Endpoints\n",
    "metadata:\n",
    "  name: my-service\n",
    "subsets:\n",
    "- addresses:\n",
    "  - ip: 192.168.1.100\n",
    "  ports:\n",
    "  - port: 9376\n"
   ]
  },
  {
   "cell_type": "markdown",
   "id": "994d5ddc-fcc5-4f1f-ba20-a4a0a1af1de8",
   "metadata": {},
   "source": [
    "-   **Description**: This Service routes traffic to the manually specified Endpoint (192.168.1.100:9376).\n",
    "\n",
    "### Summary\n",
    "\n",
    "-   **Services** in Kubernetes provide a stable way to expose Pods.\n",
    "-   **ClusterIP** is used for internal communication.\n",
    "-   **NodePort** and **LoadBalancer** are used to expose services outside the cluster.\n",
    "-   **ExternalName** allows you to map a service to an external DNS name.\n",
    "-   **Selectors and labels** are used to route traffic to the correct set of Pods.\n",
    "-   **Headless Services** and **Services without selectors** offer more advanced use cases for direct Pod IPs or manual endpoint management."
   ]
  },
  {
   "cell_type": "markdown",
   "id": "766cac62-7e2e-46c0-99fd-2c041e876c7a",
   "metadata": {},
   "source": [
    "## Kubernetes Ingress"
   ]
  },
  {
   "cell_type": "markdown",
   "id": "fef44db3-b32b-46af-9d7e-887bde2eb884",
   "metadata": {},
   "source": [
    "**Ingress** in Kubernetes is an API object that manages external access to services within a Kubernetes cluster, typically HTTP or HTTPS. Ingress provides a way to define rules for routing external traffic to the appropriate services in the cluster. It acts as a bridge between the outside world and your Kubernetes cluster.\n",
    "\n",
    "#### Key Concepts\n",
    "\n",
    "1.  **Ingress Controller**: An Ingress controller is a specialized load balancer for Kubernetes (such as NGINX, Traefik, or HAProxy) that implements the Ingress rules you define. You must deploy an Ingress controller to use Ingress resources.\n",
    "\n",
    "2.  **Ingress Resource**: This is a collection of rules that allow inbound connections to reach the cluster services.\n",
    "\n",
    "3.  **Ingress Rules**: These define how the traffic should be routed based on the host and path of the incoming request.\n",
    "\n",
    "#### Basic Structure\n",
    "\n",
    "Here's a simplified example of an Ingress resource:"
   ]
  },
  {
   "cell_type": "raw",
   "id": "f05faf0f-c32e-44e6-aa92-534dc152811c",
   "metadata": {},
   "source": [
    "apiVersion: networking.k8s.io/v1\n",
    "kind: Ingress\n",
    "metadata:\n",
    "  name: example-ingress\n",
    "  annotations:\n",
    "    nginx.ingress.kubernetes.io/rewrite-target: /\n",
    "spec:\n",
    "  rules:\n",
    "  - host: example.com\n",
    "    http:\n",
    "      paths:\n",
    "      - path: /app1\n",
    "        pathType: Prefix\n",
    "        backend:\n",
    "          service:\n",
    "            name: app1-service\n",
    "            port:\n",
    "              number: 80\n",
    "      - path: /app2\n",
    "        pathType: Prefix\n",
    "        backend:\n",
    "          service:\n",
    "            name: app2-service\n",
    "            port:\n",
    "              number: 80\n"
   ]
  },
  {
   "cell_type": "markdown",
   "id": "023c368b-fc7f-4b2c-9c4a-5e2dab500bd0",
   "metadata": {},
   "source": [
    "### Detailed Explanation\n",
    "\n",
    "1.  **Ingress Controller**:\n",
    "\n",
    "    -   **Deployment**: Ingress controllers are typically deployed as pods within the cluster. Each controller watches the Ingress resources and configures the underlying load balancer according to the rules specified.\n",
    "    -   **Common Controllers**: Popular Ingress controllers include NGINX Ingress Controller, Traefik, and HAProxy Ingress.\n",
    "2.  **Ingress Resource**:\n",
    "\n",
    "    -   **Metadata**: This section includes the name and optional annotations. Annotations are used to specify additional configurations, like rewrite rules.\n",
    "    -   **Spec**: This section includes rules and configurations for the Ingress resource.\n",
    "3.  **Ingress Rules**:\n",
    "\n",
    "    -   **Host**: Specifies the domain name for which the rules apply.\n",
    "    -   **Paths**: Defines how the requests to specific paths should be routed to backend services. Each path has:\n",
    "        -   **Path**: The specific URL path.\n",
    "        -   **PathType**: Specifies how the path should be matched (`Prefix`, `Exact`, or `ImplementationSpecific`).\n",
    "        -   **Backend**: Specifies the service name and port to which the request should be forwarded.\n",
    "\n",
    "### Advanced Concepts\n",
    "\n",
    "#### TLS (HTTPS)\n",
    "\n",
    "To secure your applications with HTTPS, you can configure Ingress to use TLS. This requires you to create a TLS secret that contains the certificate and key."
   ]
  },
  {
   "cell_type": "raw",
   "id": "b592ce49-38f2-4cfe-b987-649f625ebde2",
   "metadata": {},
   "source": [
    "apiVersion: networking.k8s.io/v1\n",
    "kind: Ingress\n",
    "metadata:\n",
    "  name: tls-example-ingress\n",
    "spec:\n",
    "  tls:\n",
    "  - hosts:\n",
    "    - example.com\n",
    "    secretName: example-secret\n",
    "  rules:\n",
    "  - host: example.com\n",
    "    http:\n",
    "      paths:\n",
    "      - path: /\n",
    "        pathType: Prefix\n",
    "        backend:\n",
    "          service:\n",
    "            name: example-service\n",
    "            port:\n",
    "              number: 80\n"
   ]
  },
  {
   "cell_type": "markdown",
   "id": "ed843330-6d6a-4906-95a8-e9d4fddb3f9c",
   "metadata": {},
   "source": [
    "#### Ingress Annotations\n",
    "\n",
    "Annotations provide additional configurations for the Ingress resource. Some common annotations include:\n",
    "\n",
    "-   **nginx.ingress.kubernetes.io/rewrite-target**: Used to rewrite the URL path.\n",
    "-   **nginx.ingress.kubernetes.io/ssl-redirect**: Force SSL redirect.\n",
    "-   **nginx.ingress.kubernetes.io/limit-connections**: Limit the number of connections.\n",
    "\n",
    "#### Example with Annotations"
   ]
  },
  {
   "cell_type": "raw",
   "id": "6c754e3e-171f-4220-b1e7-16983a679439",
   "metadata": {},
   "source": [
    "apiVersion: networking.k8s.io/v1\n",
    "kind: Ingress\n",
    "metadata:\n",
    "  name: annotated-ingress\n",
    "  annotations:\n",
    "    nginx.ingress.kubernetes.io/rewrite-target: /\n",
    "    nginx.ingress.kubernetes.io/ssl-redirect: \"true\"\n",
    "spec:\n",
    "  rules:\n",
    "  - host: example.com\n",
    "    http:\n",
    "      paths:\n",
    "      - path: /app\n",
    "        pathType: Prefix\n",
    "        backend:\n",
    "          service:\n",
    "            name: example-service\n",
    "            port:\n",
    "              number: 80\n"
   ]
  },
  {
   "cell_type": "markdown",
   "id": "fe0fb89b-aeea-4ff2-bfa4-4837cffc46e8",
   "metadata": {},
   "source": [
    "### Use Cases\n",
    "\n",
    "1.  **Single Service Exposure**: Expose a single service to the internet.\n",
    "2.  **Multiple Services with Path-based Routing**: Route traffic to different services based on URL paths.\n",
    "3.  **Multiple Domains**: Host multiple applications on different domains using the same Ingress controller.\n",
    "4.  **TLS Termination**: Secure your services with HTTPS.\n",
    "\n",
    "### Summary\n",
    "\n",
    "-   **Ingress** is a powerful way to manage external access to your services.\n",
    "-   **Ingress Controller** is required to implement the Ingress rules.\n",
    "-   **Ingress Resource** defines the routing rules for your applications.\n",
    "-   **TLS Support** enables HTTPS for secure communications.\n",
    "-   **Annotations** provide additional configurations for fine-tuning the Ingress behavior."
   ]
  },
  {
   "cell_type": "markdown",
   "id": "425b451f-64b9-47e4-b3aa-313fbac89030",
   "metadata": {},
   "source": [
    "## Kubernetes ConfigMaps and Secrets"
   ]
  },
  {
   "cell_type": "markdown",
   "id": "428c26ba-8fb3-46aa-a8e0-30c4f682ccac",
   "metadata": {},
   "source": [
    "**ConfigMaps** and **Secrets** are Kubernetes resources used to manage configuration data and sensitive information separately from application code. This approach allows you to change configuration or sensitive data without rebuilding your application images or disrupting your application services.\n",
    "\n",
    "### ConfigMaps\n",
    "\n",
    "**ConfigMaps** are used to store non-confidential configuration data in key-value pairs. This allows you to decouple configuration artifacts from image content to keep your containers portable.\n",
    "\n",
    "#### Key Concepts\n",
    "\n",
    "-   **Data Storage**: ConfigMaps store data as key-value pairs.\n",
    "-   **Mounting Methods**: ConfigMaps can be used as environment variables, command-line arguments, or configuration files in a volume.\n",
    "\n",
    "#### Example ConfigMap Definition\n",
    "\n",
    "Here is a basic example of a ConfigMap definition:"
   ]
  },
  {
   "cell_type": "raw",
   "id": "2249f8fc-2e96-4e06-91f8-406267737b66",
   "metadata": {},
   "source": [
    "apiVersion: v1\n",
    "kind: ConfigMap\n",
    "metadata:\n",
    "  name: example-config\n",
    "data:\n",
    "  # Properties-like syntax\n",
    "  app.properties: |\n",
    "    key1=value1\n",
    "    key2=value2\n",
    "\n",
    "  # Simple key-value pairs\n",
    "  key3: value3\n",
    "  key4: value4\n"
   ]
  },
  {
   "cell_type": "markdown",
   "id": "9ed13092-d8ec-4168-8eb7-6c3860297269",
   "metadata": {},
   "source": [
    "#### Using ConfigMaps in Pods\n",
    "\n",
    "1.  **As Environment Variables**:"
   ]
  },
  {
   "cell_type": "raw",
   "id": "bf549b01-1b5f-457e-8c77-553d32e8882f",
   "metadata": {},
   "source": [
    "apiVersion: v1\n",
    "kind: Pod\n",
    "metadata:\n",
    "  name: example-pod\n",
    "spec:\n",
    "  containers:\n",
    "  - name: mycontainer\n",
    "    image: myimage\n",
    "    env:\n",
    "    - name: KEY3\n",
    "      valueFrom:\n",
    "        configMapKeyRef:\n",
    "          name: example-config\n",
    "          key: key3\n"
   ]
  },
  {
   "cell_type": "markdown",
   "id": "5c50d6a0-29fe-410f-ab42-b723a069f09f",
   "metadata": {},
   "source": [
    "2. **As Command-Line Arguments**:"
   ]
  },
  {
   "cell_type": "raw",
   "id": "18f4aec5-8d1a-400b-b8d8-482750215b76",
   "metadata": {},
   "source": [
    "apiVersion: v1\n",
    "kind: Pod\n",
    "metadata:\n",
    "  name: example-pod\n",
    "spec:\n",
    "  containers:\n",
    "  - name: mycontainer\n",
    "    image: myimage\n",
    "    args:\n",
    "    - \"--key3=$(KEY3)\"\n",
    "    env:\n",
    "    - name: KEY3\n",
    "      valueFrom:\n",
    "        configMapKeyRef:\n",
    "          name: example-config\n",
    "          key: key3\n"
   ]
  },
  {
   "cell_type": "markdown",
   "id": "cbabbd82-70be-4fdd-bc57-3824e8b70df8",
   "metadata": {},
   "source": [
    "3. **As Configuration Files**:"
   ]
  },
  {
   "cell_type": "raw",
   "id": "ebaebeb2-0a42-43b8-b849-95b8cfbaad60",
   "metadata": {},
   "source": [
    "apiVersion: v1\n",
    "kind: Pod\n",
    "metadata:\n",
    "  name: example-pod\n",
    "spec:\n",
    "  volumes:\n",
    "  - name: config-volume\n",
    "    configMap:\n",
    "      name: example-config\n",
    "  containers:\n",
    "  - name: mycontainer\n",
    "    image: myimage\n",
    "    volumeMounts:\n",
    "    - name: config-volume\n",
    "      mountPath: /etc/config\n"
   ]
  },
  {
   "cell_type": "markdown",
   "id": "c538c2ce-a8a1-44bc-96ba-f0f2305ba662",
   "metadata": {},
   "source": [
    "### Secrets\n",
    "\n",
    "**Secrets** are similar to ConfigMaps but are specifically intended for storing sensitive information, such as passwords, OAuth tokens, and SSH keys. Secrets are encoded in base64 and can be used in Pods similarly to ConfigMaps.\n",
    "\n",
    "#### Key Concepts\n",
    "\n",
    "-   **Data Storage**: Secrets store sensitive data as key-value pairs.\n",
    "-   **Security**: Secrets are encoded in base64 but are not encrypted by default. They provide a higher level of security and control.\n",
    "\n",
    "#### Example Secret Definition\n",
    "\n",
    "Here is an example of a Secret definition:"
   ]
  },
  {
   "cell_type": "raw",
   "id": "b25185f2-6408-4a59-a7f9-48bba16213d4",
   "metadata": {},
   "source": [
    "apiVersion: v1\n",
    "kind: Secret\n",
    "metadata:\n",
    "  name: example-secret\n",
    "type: Opaque\n",
    "data:\n",
    "  # Base64 encoded values\n",
    "  username: YWRtaW4=  # \"admin\" in base64\n",
    "  password: MWYyZDFlMmU2N2Rm  # \"1f2d1e2e67df\" in base64\n"
   ]
  },
  {
   "cell_type": "markdown",
   "id": "4fb54157-be70-4877-a1f0-8fc74aeaa175",
   "metadata": {},
   "source": [
    "#### Using Secrets in Pods\n",
    "\n",
    "1.  **As Environment Variables**:"
   ]
  },
  {
   "cell_type": "raw",
   "id": "150d0564-013f-47b4-9764-286b5f22db3c",
   "metadata": {},
   "source": [
    "apiVersion: v1\n",
    "kind: Pod\n",
    "metadata:\n",
    "  name: example-pod\n",
    "spec:\n",
    "  containers:\n",
    "  - name: mycontainer\n",
    "    image: myimage\n",
    "    env:\n",
    "    - name: USERNAME\n",
    "      valueFrom:\n",
    "        secretKeyRef:\n",
    "          name: example-secret\n",
    "          key: username\n",
    "    - name: PASSWORD\n",
    "      valueFrom:\n",
    "        secretKeyRef:\n",
    "          name: example-secret\n",
    "          key: password\n"
   ]
  },
  {
   "cell_type": "markdown",
   "id": "8d4b217d-8a69-4bfa-a29d-623c37644ec9",
   "metadata": {},
   "source": [
    "2. **As Configuration Files**:"
   ]
  },
  {
   "cell_type": "raw",
   "id": "2da92355-9267-408a-af3a-44bd5f32d574",
   "metadata": {},
   "source": [
    "apiVersion: v1\n",
    "kind: Pod\n",
    "metadata:\n",
    "  name: example-pod\n",
    "spec:\n",
    "  volumes:\n",
    "  - name: secret-volume\n",
    "    secret:\n",
    "      secretName: example-secret\n",
    "  containers:\n",
    "  - name: mycontainer\n",
    "    image: myimage\n",
    "    volumeMounts:\n",
    "    - name: secret-volume\n",
    "      mountPath: /etc/secret\n",
    "      readOnly: true\n"
   ]
  },
  {
   "cell_type": "markdown",
   "id": "5aec9b41-3728-4790-bba5-bd103aace92a",
   "metadata": {},
   "source": [
    "### Comparison and Best Practices\n",
    "\n",
    "#### ConfigMaps\n",
    "\n",
    "-   **Use Case**: Store non-sensitive configuration data.\n",
    "-   **Security**: No special security measures beyond standard Kubernetes access control.\n",
    "-   **Usage**: Ideal for application settings, configuration files, and non-sensitive data.\n",
    "\n",
    "#### Secrets\n",
    "\n",
    "-   **Use Case**: Store sensitive information.\n",
    "-   **Security**: Base64 encoded by default; can be integrated with Kubernetes secrets management tools for encryption.\n",
    "-   **Usage**: Ideal for passwords, API keys, certificates, and other sensitive data.\n",
    "\n",
    "#### Best Practices\n",
    "\n",
    "1.  **Separate Configurations**: Use ConfigMaps and Secrets to separate configuration and sensitive data from your application code.\n",
    "2.  **Version Control**: Do not store sensitive information in version control systems.\n",
    "3.  **Access Control**: Use Kubernetes Role-Based Access Control (RBAC) to limit access to ConfigMaps and Secrets.\n",
    "4.  **Encryption**: Use tools like Kubernetes Secrets encryption or third-party solutions to encrypt Secrets at rest.\n",
    "5.  **Environment Variables vs. Volumes**: Consider security implications when choosing between environment variables and mounted volumes for injecting sensitive data."
   ]
  },
  {
   "cell_type": "markdown",
   "id": "8f71ce65-4bba-4ebc-96a8-a7b5991c1c79",
   "metadata": {},
   "source": [
    "\n",
    "## Kubernetes Namespaces"
   ]
  },
  {
   "cell_type": "markdown",
   "id": "94e7cc00-486e-4ec2-b93c-e575f05e227f",
   "metadata": {},
   "source": [
    "**Namespaces** in Kubernetes are a way to divide cluster resources between multiple users. They provide a scope for names, allowing you to organize and manage resources in a Kubernetes cluster more effectively.\n",
    "\n",
    "#### Key Concepts\n",
    "\n",
    "1.  **Logical Partitioning**: Namespaces are intended for use in environments with many users spread across multiple teams or projects.\n",
    "2.  **Resource Isolation**: Namespaces help isolate resources between different teams, applications, or environments.\n",
    "3.  **Resource Quotas**: You can apply resource quotas to namespaces to limit the amount of resources consumed.\n",
    "4.  **Access Control**: Namespaces can be used with Kubernetes Role-Based Access Control (RBAC) to manage access to resources.\n",
    "\n",
    "#### Default Namespaces\n",
    "\n",
    "Kubernetes comes with three pre-configured namespaces:\n",
    "\n",
    "-   **default**: The default namespace for objects without a namespace.\n",
    "-   **kube-system**: The namespace for objects created by the Kubernetes system.\n",
    "-   **kube-public**: A namespace that is readable by all users, used for special purposes.\n",
    "\n",
    "#### Creating a Namespace\n",
    "\n",
    "Here is an example of how to create a namespace:"
   ]
  },
  {
   "cell_type": "raw",
   "id": "d35dcb95-0d52-464e-b479-a686804e0572",
   "metadata": {},
   "source": [
    "apiVersion: v1\n",
    "kind: Namespace\n",
    "metadata:\n",
    "  name: example-namespace\n"
   ]
  },
  {
   "cell_type": "markdown",
   "id": "f106a29c-4433-4f6a-a91f-4ed11d99a676",
   "metadata": {},
   "source": [
    "Apply the namespace definition using `kubectl`:"
   ]
  },
  {
   "cell_type": "raw",
   "id": "8eb0c3fd-d4d1-43af-a58a-31f0f2d50d0c",
   "metadata": {},
   "source": [
    "kubectl apply -f namespace.yaml"
   ]
  },
  {
   "cell_type": "markdown",
   "id": "8acd2f57-71ee-47dd-b852-b00af9082055",
   "metadata": {},
   "source": [
    "#### Using Namespaces\r\n",
    "\r\n",
    "1.  **Creating Resources in a Namespace**: When creating resources, you can specify the namespace where they should be created."
   ]
  },
  {
   "cell_type": "raw",
   "id": "7876f47c-73c3-4cc7-92ef-a5367ddd39fa",
   "metadata": {},
   "source": [
    "apiVersion: v1\n",
    "kind: Pod\n",
    "metadata:\n",
    "  name: example-pod\n",
    "  namespace: example-namespace\n",
    "spec:\n",
    "  containers:\n",
    "  - name: mycontainer\n",
    "    image: myimage\n"
   ]
  },
  {
   "cell_type": "markdown",
   "id": "8cb3d43a-4aed-4e73-8726-7c3df1289a0c",
   "metadata": {},
   "source": [
    "Apply the Pod definition using `kubectl`:"
   ]
  },
  {
   "cell_type": "raw",
   "id": "e4c5762d-8913-4e03-ad47-14854f29787d",
   "metadata": {},
   "source": [
    "kubectl apply -f pod.yaml"
   ]
  },
  {
   "cell_type": "markdown",
   "id": "dc127e69-1800-417b-889c-9d5da4836555",
   "metadata": {},
   "source": [
    "2. **Viewing Resources in a Namespace**:\n",
    "   \n",
    "   You can list resources in a specific namespace using the `-n` flag."
   ]
  },
  {
   "cell_type": "raw",
   "id": "f3db0b34-0393-4271-8d90-e5f7e0d3c5f9",
   "metadata": {},
   "source": [
    "kubectl get pods -n example-namespace"
   ]
  },
  {
   "cell_type": "markdown",
   "id": "8dde2dde-8638-4822-8da2-a2225c82179e",
   "metadata": {},
   "source": [
    "3. **Setting a Default Namespace for `kubectl`**:\n",
    "  \n",
    "   You can set a default namespace for `kubectl` commands using the `kubectl config set-context` command."
   ]
  },
  {
   "cell_type": "raw",
   "id": "54a99567-f914-4e28-b4cf-2905765a1259",
   "metadata": {},
   "source": [
    "kubectl config set-context --current --namespace=example-namespace"
   ]
  },
  {
   "cell_type": "markdown",
   "id": "d6b01321-d70d-41c5-b344-021fbe5ef0fd",
   "metadata": {},
   "source": [
    "4. **Switching Between Namespaces**:\n",
    "\n",
    "   You can switch between namespaces in `kubectl` using the `kubens` command (part of the `kubectx` tool)."
   ]
  },
  {
   "cell_type": "raw",
   "id": "7a9e763f-793d-442e-8e34-c7e0c9de1444",
   "metadata": {},
   "source": [
    "kubens example-namespace"
   ]
  },
  {
   "cell_type": "markdown",
   "id": "37f701f7-754c-471a-9561-4b6aceef73eb",
   "metadata": {},
   "source": [
    "#### Resource Quotas\n",
    "\n",
    "You can use resource quotas to limit the resource consumption within a namespace. Here is an example of a resource quota definition:"
   ]
  },
  {
   "cell_type": "raw",
   "id": "333a45a8-724a-48b1-825d-f8836fde33c6",
   "metadata": {},
   "source": [
    "apiVersion: v1\n",
    "kind: ResourceQuota\n",
    "metadata:\n",
    "  name: example-quota\n",
    "  namespace: example-namespace\n",
    "spec:\n",
    "  hard:\n",
    "    pods: \"10\"\n",
    "    requests.cpu: \"4\"\n",
    "    requests.memory: \"8Gi\"\n",
    "    limits.cpu: \"8\"\n",
    "    limits.memory: \"16Gi\"\n"
   ]
  },
  {
   "cell_type": "markdown",
   "id": "66d031db-411a-43a6-a264-4fb0e38df636",
   "metadata": {},
   "source": [
    "Apply the resource quota definition using `kubectl`:"
   ]
  },
  {
   "cell_type": "raw",
   "id": "c3c338cd-9661-49d6-83b0-e250f062fa54",
   "metadata": {},
   "source": [
    "kubectl apply -f resourcequota.yaml"
   ]
  },
  {
   "cell_type": "markdown",
   "id": "9eaa713c-e1dd-4666-8168-d026c1a47104",
   "metadata": {},
   "source": [
    "#### Role-Based Access Control (RBAC)\n",
    "\n",
    "Namespaces can be used with RBAC to define fine-grained access control. Here is an example of a role and role binding for a namespace:\n",
    "\n",
    "1.  **Role**:"
   ]
  },
  {
   "cell_type": "raw",
   "id": "d7309de7-5df1-4ae4-a00c-3ccbe4c7ec01",
   "metadata": {},
   "source": [
    "apiVersion: rbac.authorization.k8s.io/v1\n",
    "kind: Role\n",
    "metadata:\n",
    "  namespace: example-namespace\n",
    "  name: pod-reader\n",
    "rules:\n",
    "- apiGroups: [\"\"]\n",
    "  resources: [\"pods\"]\n",
    "  verbs: [\"get\", \"list\", \"watch\"]\n"
   ]
  },
  {
   "cell_type": "markdown",
   "id": "fe245719-9c56-4bc4-8b75-1ab849ca8636",
   "metadata": {},
   "source": [
    "2. **Role Binding**:"
   ]
  },
  {
   "cell_type": "raw",
   "id": "f0abbe97-9844-4609-b428-7379d12c0b70",
   "metadata": {},
   "source": [
    "apiVersion: rbac.authorization.k8s.io/v1\n",
    "kind: RoleBinding\n",
    "metadata:\n",
    "  name: read-pods\n",
    "  namespace: example-namespace\n",
    "subjects:\n",
    "- kind: User\n",
    "  name: jane\n",
    "  apiGroup: rbac.authorization.k8s.io\n",
    "roleRef:\n",
    "  kind: Role\n",
    "  name: pod-reader\n",
    "  apiGroup: rbac.authorization.k8s.io\n"
   ]
  },
  {
   "cell_type": "markdown",
   "id": "a80b9768-0606-4efd-9aed-7cbb971c8f3e",
   "metadata": {},
   "source": [
    "Apply the role and role binding definitions using `kubectl`:"
   ]
  },
  {
   "cell_type": "raw",
   "id": "e1f404dd-2d35-4a04-b1f9-8b0b30d71778",
   "metadata": {},
   "source": [
    "kubectl apply -f role.yaml\n",
    "kubectl apply -f rolebinding.yaml"
   ]
  },
  {
   "cell_type": "markdown",
   "id": "6ed71597-6357-492a-b02b-2c272557818d",
   "metadata": {},
   "source": [
    "### Summary\n",
    "\n",
    "-   **Namespaces** provide logical partitioning of resources in a Kubernetes cluster.\n",
    "-   **Default Namespaces** include `default`, `kube-system`, and `kube-public`.\n",
    "-   **Creating and Using Namespaces**: You can create namespaces and specify them in resource definitions.\n",
    "-   **Resource Quotas** help limit resource consumption within namespaces.\n",
    "-   **RBAC** with namespaces allows for fine-grained access control."
   ]
  },
  {
   "cell_type": "markdown",
   "id": "49681184-98ce-4d8e-aadc-eb6142be950f",
   "metadata": {},
   "source": [
    "\n",
    "\n",
    "## Kubernetes PersistentVolumes (PVs) and PersistentVolumeClaims (PVCs)"
   ]
  },
  {
   "cell_type": "markdown",
   "id": "de225d73-e55c-4129-ac5b-8770ddd2bb11",
   "metadata": {},
   "source": [
    "**PersistentVolumes (PVs)** and **PersistentVolumeClaims (PVCs)** are components of the Kubernetes storage architecture that enable the management of storage resources. PVs represent actual storage resources, while PVCs are requests for storage by users. Together, they provide a way to dynamically provision and manage storage for applications in a Kubernetes cluster.\n",
    "\n",
    "#### PersistentVolumes (PVs)\n",
    "\n",
    "A PersistentVolume (PV) is a piece of storage in the cluster that has been provisioned by an administrator or dynamically provisioned using Storage Classes. PVs are cluster resources, much like a node is a cluster resource.\n",
    "\n",
    "##### Key Concepts\n",
    "\n",
    "-   **Static and Dynamic Provisioning**: PVs can be statically created by an administrator or dynamically provisioned based on Storage Classes.\n",
    "-   **Lifecycle**: PVs have a lifecycle independent of any individual Pod that uses the PV.\n",
    "-   **Reclaim Policies**: Determine what happens to the PV when it is released. Reclaim policies include Retain, Recycle, and Delete.\n",
    "\n",
    "##### Example PV Definition\n",
    "\n",
    "Here's an example of a statically provisioned PV:"
   ]
  },
  {
   "cell_type": "raw",
   "id": "3486de54-64e0-458e-a475-ebab4a77dc5a",
   "metadata": {},
   "source": [
    "apiVersion: v1\n",
    "kind: PersistentVolume\n",
    "metadata:\n",
    "  name: example-pv\n",
    "spec:\n",
    "  capacity:\n",
    "    storage: 5Gi\n",
    "  accessModes:\n",
    "    - ReadWriteOnce\n",
    "  persistentVolumeReclaimPolicy: Retain\n",
    "  storageClassName: manual\n",
    "  hostPath:\n",
    "    path: /mnt/data\n"
   ]
  },
  {
   "cell_type": "markdown",
   "id": "2be7363c-f472-4d36-b8e9-bb1fc4b6553c",
   "metadata": {},
   "source": [
    "#### PersistentVolumeClaims (PVCs)\r\n",
    "\r\n",
    "A PersistentVolumeClaim (PVC) is a request for storage by a user. It is similar to a Pod in that Pods consume node resources, and PVCs consume PV resources. PVCs specify the desired size, access modes, and storage class.\r\n",
    "\r\n",
    "##### Key Concepts\r\n",
    "\r\n",
    "-   **Binding**: A PVC is bound to a PV with matching requirements.\r\n",
    "-   **Access Modes**: PVCs specify access modes like ReadWriteOnce, ReadOnlyMany, and ReadWriteMany.\r\n",
    "-   **Storage Classes**: Define the type of storage to be dynamically provisioned (if used).\r\n",
    "\r\n",
    "##### Example PVC Definition\r\n",
    "\r\n",
    "Here's an example of a PVC:"
   ]
  },
  {
   "cell_type": "raw",
   "id": "bf7fb60f-9dc1-4de2-b1a6-e60ba60282ee",
   "metadata": {},
   "source": [
    "apiVersion: v1\n",
    "kind: PersistentVolumeClaim\n",
    "metadata:\n",
    "  name: example-pvc\n",
    "spec:\n",
    "  accessModes:\n",
    "    - ReadWriteOnce\n",
    "  resources:\n",
    "    requests:\n",
    "      storage: 5Gi\n",
    "  storageClassName: manual\n"
   ]
  },
  {
   "cell_type": "markdown",
   "id": "45bee505-9b95-4016-8140-58372099caf2",
   "metadata": {},
   "source": [
    "#### Using PVs and PVCs in Pods\n",
    "\n",
    "Once a PVC is created and bound to a PV, it can be used in a Pod. Here's an example of how to use a PVC in a Pod:"
   ]
  },
  {
   "cell_type": "raw",
   "id": "348e933c-122e-4fdd-8f80-e55c79ff0642",
   "metadata": {},
   "source": [
    "apiVersion: v1\n",
    "kind: Pod\n",
    "metadata:\n",
    "  name: example-pod\n",
    "spec:\n",
    "  containers:\n",
    "  - name: mycontainer\n",
    "    image: myimage\n",
    "    volumeMounts:\n",
    "    - mountPath: /mnt/data\n",
    "      name: mypvc\n",
    "  volumes:\n",
    "  - name: mypvc\n",
    "    persistentVolumeClaim:\n",
    "      claimName: example-pvc\n"
   ]
  },
  {
   "cell_type": "markdown",
   "id": "07a99b00-849e-4bfd-90e5-6e2c7e56e86e",
   "metadata": {},
   "source": [
    "#### Using PVs and PVCs in Pods\n",
    "\n",
    "Once a PVC is created an#### Dynamic Provisioning with Storage Classes\n",
    "\n",
    "**Storage Classes** enable dynamic provisioning of PVs. A Storage Class defines the storage type (like AWS EBS, GCE PD, or NFS) and the provisioner that should be used.\n",
    "\n",
    "##### Example Storage Class\n",
    "\n",
    "Here's an example of a Storage Class:d bound to a PV, it can be used in a Pod. Here's an example of how to use a PVC in a Pod:"
   ]
  },
  {
   "cell_type": "raw",
   "id": "00882243-ccfa-437f-bd63-c0af60ba1fde",
   "metadata": {},
   "source": [
    "apiVersion: storage.k8s.io/v1\n",
    "kind: StorageClass\n",
    "metadata:\n",
    "  name: standard\n",
    "provisioner: kubernetes.io/aws-ebs\n",
    "parameters:\n",
    "  type: gp2\n",
    "  fsType: ext4\n"
   ]
  },
  {
   "cell_type": "markdown",
   "id": "151f04d6-7a92-44ad-b4aa-2a9e408331f9",
   "metadata": {},
   "source": [
    "PVCs can reference a Storage Class to dynamically provision a PV:"
   ]
  },
  {
   "cell_type": "raw",
   "id": "be299dad-aea3-4395-8dd1-024c8b9bb0c1",
   "metadata": {},
   "source": [
    "apiVersion: v1\n",
    "kind: PersistentVolumeClaim\n",
    "metadata:\n",
    "  name: dynamic-pvc\n",
    "spec:\n",
    "  accessModes:\n",
    "    - ReadWriteOnce\n",
    "  resources:\n",
    "    requests:\n",
    "      storage: 10Gi\n",
    "  storageClassName: standard\n"
   ]
  },
  {
   "cell_type": "markdown",
   "id": "f328dd3c-88e8-4943-ace2-d0c3e9eb086e",
   "metadata": {},
   "source": [
    "### Reclaim Policies\n",
    "\n",
    "-   **Retain**: Manual reclamation of the resource. The PV is not deleted and must be manually cleaned up.\n",
    "-   **Recycle**: Basic scrub (rm -rf /thevolume/*). This is deprecated.\n",
    "-   **Delete**: The PV and associated storage are automatically deleted.\n",
    "\n",
    "### Summary\n",
    "\n",
    "-   **PersistentVolumes (PVs)**: Represent actual storage resources. Can be statically or dynamically provisioned. Have lifecycle independent of Pods.\n",
    "-   **PersistentVolumeClaims (PVCs)**: Requests for storage by users. PVCs consume PV resources and specify desired size, access modes, and storage class.\n",
    "-   **Binding**: PVCs bind to PVs that match their requirements.\n",
    "-   **Access Modes**: Define how the volume can be accessed (e.g., ReadWriteOnce, ReadOnlyMany).\n",
    "-   **Storage Classes**: Enable dynamic provisioning of PVs with specific attributes and provisioners.\n",
    "-   **Reclaim Policies**: Define what happens to a PV when it is released (Retain, Recycle, Delete)."
   ]
  },
  {
   "cell_type": "code",
   "execution_count": null,
   "id": "ee9ef572-19f8-4fb6-961b-a0cf38e64693",
   "metadata": {},
   "outputs": [],
   "source": []
  }
 ],
 "metadata": {
  "kernelspec": {
   "display_name": "Python 3 (ipykernel)",
   "language": "python",
   "name": "python3"
  },
  "language_info": {
   "codemirror_mode": {
    "name": "ipython",
    "version": 3
   },
   "file_extension": ".py",
   "mimetype": "text/x-python",
   "name": "python",
   "nbconvert_exporter": "python",
   "pygments_lexer": "ipython3",
   "version": "3.11.7"
  }
 },
 "nbformat": 4,
 "nbformat_minor": 5
}
