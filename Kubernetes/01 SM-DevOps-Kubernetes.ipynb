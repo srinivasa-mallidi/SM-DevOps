{
 "cells": [
  {
   "cell_type": "markdown",
   "id": "a44ddfdd-2d85-48df-905a-03ba1fd8657c",
   "metadata": {},
   "source": [
    "## Kubernetes\n",
    "\n",
    "* Kubernetes (K8s) is an open source container orchestration platform developed by Google.\n",
    "* \tIt is designed to automate the development, scaling, and management of containerized applications across a cluster of nodes\n",
    "* •\tKubernetes provides a consistent and reliable way to manage applications, regardless of whether they are running on-premises, in the cloud, or in hybrid environments.\r\n"
   ]
  },
  {
   "cell_type": "markdown",
   "id": "0e5db4aa-96e3-4e14-8162-962e05649cc2",
   "metadata": {},
   "source": [
    "## Microservices  \n",
    "* Microservice are a software architecture pattern that structures applications as a collection of small, independently deployable services.\n",
    "* Each microservice is designed to perform a specific function or business capability and communicates with other services over well-defined APIs or protocols\n"
   ]
  },
  {
   "cell_type": "code",
   "execution_count": null,
   "id": "28016f3c-22ef-4170-a8cb-3f6d7223b008",
   "metadata": {},
   "outputs": [],
   "source": []
  }
 ],
 "metadata": {
  "kernelspec": {
   "display_name": "Python 3 (ipykernel)",
   "language": "python",
   "name": "python3"
  },
  "language_info": {
   "codemirror_mode": {
    "name": "ipython",
    "version": 3
   },
   "file_extension": ".py",
   "mimetype": "text/x-python",
   "name": "python",
   "nbconvert_exporter": "python",
   "pygments_lexer": "ipython3",
   "version": "3.11.7"
  }
 },
 "nbformat": 4,
 "nbformat_minor": 5
}
