{
 "cells": [
  {
   "cell_type": "markdown",
   "id": "666acac1-9489-4686-832c-dcacf5cfd500",
   "metadata": {},
   "source": [
    "## Docker"
   ]
  },
  {
   "cell_type": "markdown",
   "id": "3aa40ad9-194d-49f1-befc-9c10bc080d36",
   "metadata": {},
   "source": [
    "### What is Docker?\r\n",
    "\r\n",
    "Docker is an open-source platform that enables developers to automate the deployment, scaling, and management of applications in lightweight, portable containers. Containers package an application and its dependencies into a single image that can run on any Docker-enabled host, ensuring consistency across different environments.\r\n",
    "\r\n",
    "**Key Features of Docker:**\r\n",
    "\r\n",
    "-   **Containerization**: Packages applications with their dependencies, ensuring they run consistently across various environments.\r\n",
    "-   **Portability**: Containers can run on any system that supports Docker, whether it's a developer's laptop, on-premises servers, or in the cloud.\r\n",
    "-   **Isolation**: Containers provide isolated environments for applications, enhancing security and reducing conflicts between dependencies.\r\n",
    "-   **Efficiency**: Containers share the host system's kernel, making them more lightweight and faster to start compared to traditional virtual machines.\r\n",
    "\r\n",
    "### What is a Virtual Machine (VM)?\r\n",
    "\r\n",
    "A Virtual Machine (VM) is a software-based emulation of a physical computer. It runs an entire operating system (OS) and can execute applications like a physical machine. VMs are created and managed by a hypervisor, which can be either Type 1 (bare-metal, running directly on the host's hardware) or Type 2 (running on a host OS).\r\n",
    "\r\n",
    "**Key Features of VMs:**\r\n",
    "\r\n",
    "-   **Isolation**: Each VM runs its own OS and is isolated from other VMs.\r\n",
    "-   **Compatibility**: VMs can run different OSes on the same physical hardware.\r\n",
    "-   **Resource Allocation**: VMs have dedicated resources (CPU, memory, storage) allocated by the hypervisor.\r\n",
    "\r\n",
    "### Docker vs. Virtual Machines\r\n",
    "\r\n",
    "| Feature | Docker Containers | Virtual Machines |\r\n",
    "| --- | --- | --- |\r\n",
    "| **Architecture** | Share the host OS kernel | Run full OS instances, including kernel |\r\n",
    "| **Resource Usage** | Lightweight, fast startup | More resource-intensive, slower startup |\r\n",
    "| **Isolation** | Process-level isolation | Full isolation via separate OS instances |\r\n",
    "| **Portability** | Highly portable across environments | Less portable due to full OS dependencies |\r\n",
    "| **Deployment** | Simplifies deployment with consistent environments | More complex deployment due to full OS management |\r\n",
    "\r\n",
    "### Real-Time Explanation: Before Docker and After Docker\r\n",
    "\r\n",
    "#### Before Docker\r\n",
    "\r\n",
    "-   **Environment Setup**: Developers spend significant time setting up development environments to match production. Differences in OS versions, library dependencies, and configurations often cause issues.\r\n",
    "-   **Deployment**: Moving applications from development to production involves ensuring all dependencies are correctly installed and configured. This process is error-prone and time-consuming.\r\n",
    "-   **Resource Usage**: Running multiple applications on the same server requires multiple VMs, each with its own OS. This leads to high resource consumption and increased costs.\r\n",
    "\r\n",
    "**Example Scenario: A Web Application**\r\n",
    "\r\n",
    "-   **Development**: Developers set up local environments with specific versions of Node.js, Python, and databases. Differences between local setups can cause bugs.\r\n",
    "-   **Testing**: QA teams replicate production environments on their machines or VMs. Ensuring consistency is challenging.\r\n",
    "-   **Production**: Deployment scripts install necessary dependencies on production servers. Configuration errors can lead to downtime.\r\n",
    "\r\n",
    "#### After Docker\r\n",
    "\r\n",
    "-   **Environment Setup**: Developers use Docker images to create containers with all necessary dependencies. These images are shared across development, testing, and production, ensuring consistency.\r\n",
    "-   **Deployment**: Applications are packaged into containers, including all dependencies and configurations. Deployment involves running containers, which is fast and reliable.\r\n",
    "-   **Resource Usage**: Containers share the host OS kernel, reducing resource consumption and allowing more applications to run on the same hardware.\r\n",
    "\r\n",
    "**Example Scenario: A Web Application**\r\n",
    "\r\n",
    "-   **Development**: Developers pull a Docker image with the required Node.js, Python, and database setup. They start containers with a single command, ensuring their environment matches production.\r\n",
    "-   **Testing**: QA teams run the same Docker images used in development. Tests are consistent with the production environment.\r\n",
    "-   **Production**: Deployment involves pushing Docker images to a registry and running them on production servers. Containers start quickly, and configurations are consistent across environments."
   ]
  },
  {
   "cell_type": "markdown",
   "id": "057efd35-0b6f-44e0-9269-d9157bff6d6f",
   "metadata": {},
   "source": [
    "### What is a Container?\n",
    "\n",
    "A **container** is a lightweight, standalone, executable package that includes everything needed to run a piece of software, including the code, runtime, system tools, libraries, and settings. Containers are isolated from each other and from the host system, providing a consistent environment for running applications regardless of where they are deployed.\n",
    "\n",
    "### Key Characteristics of Containers\n",
    "\n",
    "-   **Isolation**: Containers run in isolated environments, meaning they have their own filesystem, processes, network interfaces, and more.\n",
    "-   **Portability**: Containers can run on any system that supports the container runtime, ensuring that applications behave the same way in development, testing, and production.\n",
    "-   **Efficiency**: Containers share the host system's kernel and do not require a full OS, making them lightweight and faster to start compared to virtual machines.\n",
    "-   **Consistency**: Containers ensure that applications run the same way, with the same dependencies and configurations, across different environments.\n",
    "\n",
    "### Example: Running Nginx in a Container\n",
    "\n",
    "#### What is Nginx?\n",
    "\n",
    "**Nginx** is a high-performance web server that can also be used as a reverse proxy, load balancer, and HTTP cache. It is known for its stability, rich feature set, simple configuration, and low resource consumption.\n",
    "\n",
    "#### Running Nginx in a Docker Container\n",
    "\n",
    "To demonstrate containers, we'll use Docker to run an Nginx web server. Here's a step-by-step example:\n",
    "\n",
    "1.  **Install Docker**: If you don't have Docker installed, you can follow the official installation guide.\n",
    "\n",
    "2.  **Pull the Nginx Image**: Docker Hub is a repository for Docker images. To get the Nginx image, use the following command:\n"
   ]
  },
  {
   "cell_type": "code",
   "execution_count": null,
   "id": "5a949ec6-d18b-4b69-aef8-6e9a38b4cbbb",
   "metadata": {},
   "outputs": [],
   "source": [
    "docker pull nginx"
   ]
  },
  {
   "cell_type": "markdown",
   "id": "38920c64-ab79-4b4c-8a19-208965727b46",
   "metadata": {},
   "source": [
    "3. **Run the Nginx Container**: Once the image is downloaded, you can run it with:"
   ]
  },
  {
   "cell_type": "code",
   "execution_count": null,
   "id": "3768e57d-e855-4297-b792-909d1e1dc9fc",
   "metadata": {},
   "outputs": [],
   "source": [
    "docker run --name my-nginx -d -p 8080:80 nginx"
   ]
  },
  {
   "cell_type": "markdown",
   "id": "b23f3ce8-38a4-42c9-864c-b65d67072baa",
   "metadata": {},
   "source": [
    "1.  -   `--name my-nginx`: Names the container \"my-nginx\".\n",
    "    -   `-d`: Runs the container in detached mode (in the background).\n",
    "    -   `-p 8080:80`: Maps port 8080 on the host to port 80 in the container.\n",
    "2.  **Access Nginx**: Open your web browser and go to `http://localhost:8080`. You should see the Nginx welcome page.\n",
    "\n",
    "### Detailed Example Breakdown\n",
    "\n",
    "#### Docker Commands\n",
    "\n",
    "-   **docker pull**: This command downloads the specified image from Docker Hub to your local machine.\n",
    "-   **docker run**: This command creates and starts a new container from the specified image.\n",
    "-   **--name**: Assigns a name to the container.\n",
    "-   **-d**: Runs the container in detached mode, allowing you to continue using the terminal.\n",
    "-   **-p**: Maps ports from the host to the container, enabling access to services running inside the container.\n",
    "\n",
    "#### What Happens When You Run the Container?\n",
    "\n",
    "-   **Container Initialization**: Docker uses the Nginx image to create a new container. This image includes the Nginx web server software and all necessary dependencies.\n",
    "-   **Networking**: The `-p 8080:80` option maps port 8080 on your host machine to port 80 inside the container. Port 80 is the default port for HTTP traffic, which Nginx listens on.\n",
    "-   **Process Isolation**: The container runs in its own isolated environment, separate from other containers and the host system. It has its own filesystem, processes, and network interfaces.\n",
    "\n",
    "### Real-World Use Cases for Containers\n",
    "\n",
    "#### Development Environment\n",
    "\n",
    "-   **Consistency**: Developers can create a Docker image with all the dependencies and configurations needed for their application. This ensures that everyone on the team has the same development environment.\n",
    "-   **Rapid Setup**: New developers can get started quickly by pulling the development image and running it in a container, avoiding lengthy setup processes.\n",
    "\n",
    "#### Microservices Architecture\n",
    "\n",
    "-   **Isolation**: Microservices can be developed, tested, and deployed independently in their own containers.\n",
    "-   **Scalability**: Containers can be easily scaled up or down to handle varying loads, making them ideal for microservices.\n",
    "\n",
    "#### CI/CD Pipelines\n",
    "\n",
    "-   **Automation**: Containers can be used in Continuous Integration/Continuous Deployment (CI/CD) pipelines to automate testing and deployment processes.\n",
    "-   **Consistency**: The same container images used in development and testing can be deployed to production, reducing the risk of environment-related issues.\n",
    "\n",
    "### Advanced Example: Customizing the Nginx Container\n",
    "\n",
    "You can create a custom Dockerfile to extend the Nginx image and add your own configuration.\n",
    "\n",
    "#### Dockerfile Example"
   ]
  },
  {
   "cell_type": "code",
   "execution_count": null,
   "id": "219b2c0c-45e0-474e-a91b-f61c125ceea5",
   "metadata": {},
   "outputs": [],
   "source": [
    "# Use the official Nginx image as the base image\n",
    "FROM nginx\n",
    "\n",
    "# Copy custom Nginx configuration file to the container\n",
    "COPY nginx.conf /etc/nginx/nginx.conf\n",
    "\n",
    "# Copy website files to the container\n",
    "COPY html/ /usr/share/nginx/html/\n",
    "\n",
    "# Expose port 80 to the outside world\n",
    "EXPOSE 80"
   ]
  },
  {
   "cell_type": "markdown",
   "id": "0ed01bc4-af77-4a5e-88cb-f9620a4cc8e0",
   "metadata": {},
   "source": [
    "#### Build and Run the Custom Image\n",
    "\n",
    "1.  **Build the Image**: Create a custom image from the Dockerfile."
   ]
  },
  {
   "cell_type": "code",
   "execution_count": null,
   "id": "a3325b42-d378-42b0-8829-4fcb97d1c037",
   "metadata": {},
   "outputs": [],
   "source": []
  }
 ],
 "metadata": {
  "kernelspec": {
   "display_name": "Python 3 (ipykernel)",
   "language": "python",
   "name": "python3"
  },
  "language_info": {
   "codemirror_mode": {
    "name": "ipython",
    "version": 3
   },
   "file_extension": ".py",
   "mimetype": "text/x-python",
   "name": "python",
   "nbconvert_exporter": "python",
   "pygments_lexer": "ipython3",
   "version": "3.11.7"
  }
 },
 "nbformat": 4,
 "nbformat_minor": 5
}
