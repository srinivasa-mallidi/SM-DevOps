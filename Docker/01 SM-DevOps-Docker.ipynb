{
 "cells": [
  {
   "cell_type": "markdown",
   "id": "666acac1-9489-4686-832c-dcacf5cfd500",
   "metadata": {},
   "source": [
    "## Docker"
   ]
  },
  {
   "cell_type": "markdown",
   "id": "3aa40ad9-194d-49f1-befc-9c10bc080d36",
   "metadata": {},
   "source": [
    "### What is Docker?\r\n",
    "\r\n",
    "Docker is an open-source platform that enables developers to automate the deployment, scaling, and management of applications in lightweight, portable containers. Containers package an application and its dependencies into a single image that can run on any Docker-enabled host, ensuring consistency across different environments.\r\n",
    "\r\n",
    "**Key Features of Docker:**\r\n",
    "\r\n",
    "-   **Containerization**: Packages applications with their dependencies, ensuring they run consistently across various environments.\r\n",
    "-   **Portability**: Containers can run on any system that supports Docker, whether it's a developer's laptop, on-premises servers, or in the cloud.\r\n",
    "-   **Isolation**: Containers provide isolated environments for applications, enhancing security and reducing conflicts between dependencies.\r\n",
    "-   **Efficiency**: Containers share the host system's kernel, making them more lightweight and faster to start compared to traditional virtual machines.\r\n",
    "\r\n",
    "### What is a Virtual Machine (VM)?\r\n",
    "\r\n",
    "A Virtual Machine (VM) is a software-based emulation of a physical computer. It runs an entire operating system (OS) and can execute applications like a physical machine. VMs are created and managed by a hypervisor, which can be either Type 1 (bare-metal, running directly on the host's hardware) or Type 2 (running on a host OS).\r\n",
    "\r\n",
    "**Key Features of VMs:**\r\n",
    "\r\n",
    "-   **Isolation**: Each VM runs its own OS and is isolated from other VMs.\r\n",
    "-   **Compatibility**: VMs can run different OSes on the same physical hardware.\r\n",
    "-   **Resource Allocation**: VMs have dedicated resources (CPU, memory, storage) allocated by the hypervisor.\r\n",
    "\r\n",
    "### Docker vs. Virtual Machines\r\n",
    "\r\n",
    "| Feature | Docker Containers | Virtual Machines |\r\n",
    "| --- | --- | --- |\r\n",
    "| **Architecture** | Share the host OS kernel | Run full OS instances, including kernel |\r\n",
    "| **Resource Usage** | Lightweight, fast startup | More resource-intensive, slower startup |\r\n",
    "| **Isolation** | Process-level isolation | Full isolation via separate OS instances |\r\n",
    "| **Portability** | Highly portable across environments | Less portable due to full OS dependencies |\r\n",
    "| **Deployment** | Simplifies deployment with consistent environments | More complex deployment due to full OS management |\r\n",
    "\r\n",
    "### Real-Time Explanation: Before Docker and After Docker\r\n",
    "\r\n",
    "#### Before Docker\r\n",
    "\r\n",
    "-   **Environment Setup**: Developers spend significant time setting up development environments to match production. Differences in OS versions, library dependencies, and configurations often cause issues.\r\n",
    "-   **Deployment**: Moving applications from development to production involves ensuring all dependencies are correctly installed and configured. This process is error-prone and time-consuming.\r\n",
    "-   **Resource Usage**: Running multiple applications on the same server requires multiple VMs, each with its own OS. This leads to high resource consumption and increased costs.\r\n",
    "\r\n",
    "**Example Scenario: A Web Application**\r\n",
    "\r\n",
    "-   **Development**: Developers set up local environments with specific versions of Node.js, Python, and databases. Differences between local setups can cause bugs.\r\n",
    "-   **Testing**: QA teams replicate production environments on their machines or VMs. Ensuring consistency is challenging.\r\n",
    "-   **Production**: Deployment scripts install necessary dependencies on production servers. Configuration errors can lead to downtime.\r\n",
    "\r\n",
    "#### After Docker\r\n",
    "\r\n",
    "-   **Environment Setup**: Developers use Docker images to create containers with all necessary dependencies. These images are shared across development, testing, and production, ensuring consistency.\r\n",
    "-   **Deployment**: Applications are packaged into containers, including all dependencies and configurations. Deployment involves running containers, which is fast and reliable.\r\n",
    "-   **Resource Usage**: Containers share the host OS kernel, reducing resource consumption and allowing more applications to run on the same hardware.\r\n",
    "\r\n",
    "**Example Scenario: A Web Application**\r\n",
    "\r\n",
    "-   **Development**: Developers pull a Docker image with the required Node.js, Python, and database setup. They start containers with a single command, ensuring their environment matches production.\r\n",
    "-   **Testing**: QA teams run the same Docker images used in development. Tests are consistent with the production environment.\r\n",
    "-   **Production**: Deployment involves pushing Docker images to a registry and running them on production servers. Containers start quickly, and configurations are consistent across environments."
   ]
  },
  {
   "cell_type": "markdown",
   "id": "057efd35-0b6f-44e0-9269-d9157bff6d6f",
   "metadata": {},
   "source": [
    "### What is a Container?\n",
    "\n",
    "A **container** is a lightweight, standalone, executable package that includes everything needed to run a piece of software, including the code, runtime, system tools, libraries, and settings. Containers are isolated from each other and from the host system, providing a consistent environment for running applications regardless of where they are deployed.\n",
    "\n",
    "### Key Characteristics of Containers\n",
    "\n",
    "-   **Isolation**: Containers run in isolated environments, meaning they have their own filesystem, processes, network interfaces, and more.\n",
    "-   **Portability**: Containers can run on any system that supports the container runtime, ensuring that applications behave the same way in development, testing, and production.\n",
    "-   **Efficiency**: Containers share the host system's kernel and do not require a full OS, making them lightweight and faster to start compared to virtual machines.\n",
    "-   **Consistency**: Containers ensure that applications run the same way, with the same dependencies and configurations, across different environments.\n",
    "\n",
    "### Example: Running Nginx in a Container\n",
    "\n",
    "#### What is Nginx?\n",
    "\n",
    "**Nginx** is a high-performance web server that can also be used as a reverse proxy, load balancer, and HTTP cache. It is known for its stability, rich feature set, simple configuration, and low resource consumption.\n",
    "\n",
    "#### Running Nginx in a Docker Container\n",
    "\n",
    "To demonstrate containers, we'll use Docker to run an Nginx web server. Here's a step-by-step example:\n",
    "\n",
    "1.  **Install Docker**: If you don't have Docker installed, you can follow the official installation guide.\n",
    "\n",
    "2.  **Pull the Nginx Image**: Docker Hub is a repository for Docker images. To get the Nginx image, use the following command:\n"
   ]
  },
  {
   "cell_type": "code",
   "execution_count": null,
   "id": "5a949ec6-d18b-4b69-aef8-6e9a38b4cbbb",
   "metadata": {},
   "outputs": [],
   "source": [
    "docker pull nginx"
   ]
  },
  {
   "cell_type": "markdown",
   "id": "38920c64-ab79-4b4c-8a19-208965727b46",
   "metadata": {},
   "source": [
    "3. **Run the Nginx Container**: Once the image is downloaded, you can run it with:"
   ]
  },
  {
   "cell_type": "code",
   "execution_count": null,
   "id": "3768e57d-e855-4297-b792-909d1e1dc9fc",
   "metadata": {},
   "outputs": [],
   "source": [
    "docker run --name my-nginx -d -p 8080:80 nginx"
   ]
  },
  {
   "cell_type": "markdown",
   "id": "b23f3ce8-38a4-42c9-864c-b65d67072baa",
   "metadata": {},
   "source": [
    "1.  -   `--name my-nginx`: Names the container \"my-nginx\".\n",
    "    -   `-d`: Runs the container in detached mode (in the background).\n",
    "    -   `-p 8080:80`: Maps port 8080 on the host to port 80 in the container.\n",
    "2.  **Access Nginx**: Open your web browser and go to `http://localhost:8080`. You should see the Nginx welcome page.\n",
    "\n",
    "### Detailed Example Breakdown\n",
    "\n",
    "#### Docker Commands\n",
    "\n",
    "-   **docker pull**: This command downloads the specified image from Docker Hub to your local machine.\n",
    "-   **docker run**: This command creates and starts a new container from the specified image.\n",
    "-   **--name**: Assigns a name to the container.\n",
    "-   **-d**: Runs the container in detached mode, allowing you to continue using the terminal.\n",
    "-   **-p**: Maps ports from the host to the container, enabling access to services running inside the container.\n",
    "\n",
    "#### What Happens When You Run the Container?\n",
    "\n",
    "-   **Container Initialization**: Docker uses the Nginx image to create a new container. This image includes the Nginx web server software and all necessary dependencies.\n",
    "-   **Networking**: The `-p 8080:80` option maps port 8080 on your host machine to port 80 inside the container. Port 80 is the default port for HTTP traffic, which Nginx listens on.\n",
    "-   **Process Isolation**: The container runs in its own isolated environment, separate from other containers and the host system. It has its own filesystem, processes, and network interfaces.\n",
    "\n",
    "### Real-World Use Cases for Containers\n",
    "\n",
    "#### Development Environment\n",
    "\n",
    "-   **Consistency**: Developers can create a Docker image with all the dependencies and configurations needed for their application. This ensures that everyone on the team has the same development environment.\n",
    "-   **Rapid Setup**: New developers can get started quickly by pulling the development image and running it in a container, avoiding lengthy setup processes.\n",
    "\n",
    "#### Microservices Architecture\n",
    "\n",
    "-   **Isolation**: Microservices can be developed, tested, and deployed independently in their own containers.\n",
    "-   **Scalability**: Containers can be easily scaled up or down to handle varying loads, making them ideal for microservices.\n",
    "\n",
    "#### CI/CD Pipelines\n",
    "\n",
    "-   **Automation**: Containers can be used in Continuous Integration/Continuous Deployment (CI/CD) pipelines to automate testing and deployment processes.\n",
    "-   **Consistency**: The same container images used in development and testing can be deployed to production, reducing the risk of environment-related issues.\n",
    "\n",
    "### Advanced Example: Customizing the Nginx Container\n",
    "\n",
    "You can create a custom Dockerfile to extend the Nginx image and add your own configuration.\n",
    "\n",
    "#### Dockerfile Example"
   ]
  },
  {
   "cell_type": "code",
   "execution_count": null,
   "id": "219b2c0c-45e0-474e-a91b-f61c125ceea5",
   "metadata": {},
   "outputs": [],
   "source": [
    "# Use the official Nginx image as the base image\n",
    "FROM nginx\n",
    "\n",
    "# Copy custom Nginx configuration file to the container\n",
    "COPY nginx.conf /etc/nginx/nginx.conf\n",
    "\n",
    "# Copy website files to the container\n",
    "COPY html/ /usr/share/nginx/html/\n",
    "\n",
    "# Expose port 80 to the outside world\n",
    "EXPOSE 80"
   ]
  },
  {
   "cell_type": "markdown",
   "id": "0ed01bc4-af77-4a5e-88cb-f9620a4cc8e0",
   "metadata": {},
   "source": [
    "#### Build and Run the Custom Image\n",
    "\n",
    "1.  **Build the Image**: Create a custom image from the Dockerfile."
   ]
  },
  {
   "cell_type": "code",
   "execution_count": null,
   "id": "a3325b42-d378-42b0-8829-4fcb97d1c037",
   "metadata": {},
   "outputs": [],
   "source": [
    "docker build -t custom-nginx ."
   ]
  },
  {
   "cell_type": "markdown",
   "id": "cce18c4c-3172-4617-9284-08671dcb954b",
   "metadata": {},
   "source": [
    "2. **Run the Custom Container**: Start a container from the custom image."
   ]
  },
  {
   "cell_type": "code",
   "execution_count": null,
   "id": "451351c2-3f55-46f4-82d1-395033c4a5c5",
   "metadata": {},
   "outputs": [],
   "source": [
    "docker run --name my-custom-nginx -d -p 8080:80 custom-nginx"
   ]
  },
  {
   "cell_type": "markdown",
   "id": "4a51b16f-6e40-4dd0-bf5e-20c158a74031",
   "metadata": {},
   "source": [
    "### Docker Image\r\n",
    "\r\n",
    "A Docker image is a lightweight, standalone, and executable software package that includes everything needed to run a piece of software: code, runtime, system tools, libraries, and settings. Docker images are used to create Docker containers, which are instances of these images.\r\n",
    "\r\n",
    "### Key Characteristics of Docker Images\r\n",
    "\r\n",
    "1.  **Layered File System**: Docker images use a layered file system, where each layer represents a set of filesystem changes. Layers are stacked on top of each other, and changes are aggregated to form the final image.\r\n",
    "2.  **Portability**: Docker images can be shared and run on any system that supports Docker, ensuring that the software runs the same way across different environments.\r\n",
    "3.  **Immutability**: Once created, Docker images are immutable; they do not change. Any updates or modifications result in the creation of a new image layer.\r\n",
    "4.  **Versioning**: Docker images can be versioned using tags, allowing users to specify which version of an image to use.\r\n",
    "\r\n",
    "### Components of a Docker Image\r\n",
    "\r\n",
    "-   **Base Image**: The starting point of any Docker image, typically a minimal OS or a framework-specific image.\r\n",
    "-   **Layers**: Each command in the Dockerfile (used to build the image) creates a new layer. Layers are cached and can be reused to speed up the build process.\r\n",
    "-   **Metadata**: Includes information about the image such as author, environment variables, exposed ports, and entry point.\r\n",
    "\r\n",
    "### Building a Docker Image\r\n",
    "\r\n",
    "Docker images are usually built using a **Dockerfile**, which is a text file that contains a series of instructions on how to create the image.\r\n",
    "\r\n",
    "#### Example Dockerfile"
   ]
  },
  {
   "cell_type": "code",
   "execution_count": null,
   "id": "c2fa737c-a837-4a74-bced-bfe8e2c6ca43",
   "metadata": {},
   "outputs": [],
   "source": [
    "# Use an official base image\n",
    "FROM ubuntu:20.04\n",
    "\n",
    "# Set the maintainer label\n",
    "LABEL maintainer=\"your-email@example.com\"\n",
    "\n",
    "# Update the package list and install dependencies\n",
    "RUN apt-get update && apt-get install -y \\\n",
    "    nginx \\\n",
    "    curl \\\n",
    "    && apt-get clean\n",
    "\n",
    "# Copy custom configuration file to the container\n",
    "COPY nginx.conf /etc/nginx/nginx.conf\n",
    "\n",
    "# Copy website files to the container\n",
    "COPY html/ /usr/share/nginx/html/\n",
    "\n",
    "# Expose port 80\n",
    "EXPOSE 80\n",
    "\n",
    "# Start Nginx server\n",
    "CMD [\"nginx\", \"-g\", \"daemon off;\"]\n"
   ]
  },
  {
   "cell_type": "markdown",
   "id": "2bd11f39-0e25-4e42-a78d-b0fc4c4b3728",
   "metadata": {},
   "source": [
    "### Building the Image\n",
    "\n",
    "To build an image from the Dockerfile, use the `docker build` command:"
   ]
  },
  {
   "cell_type": "code",
   "execution_count": null,
   "id": "5e62cb5c-7929-4684-90c6-dd77c47ef71d",
   "metadata": {},
   "outputs": [],
   "source": [
    "docker build -t custom-nginx ."
   ]
  },
  {
   "cell_type": "markdown",
   "id": "c2f9ac53-a7c2-46d6-98f9-56dcf22bf9bf",
   "metadata": {},
   "source": [
    "-   `-t custom-nginx`: Tags the image with the name `custom-nginx`.\n",
    "-   `.`: Specifies the build context, which includes the Dockerfile and any files referenced in it.\n",
    "\n",
    "### Understanding the Dockerfile\n",
    "\n",
    "-   **FROM ubuntu:20.04**: Specifies the base image.\n",
    "-   **LABEL maintainer=\"your-email@example.com\"**: Adds metadata about the maintainer.\n",
    "-   **RUN apt-get update && apt-get install -y ...**: Executes commands to update the package list and install dependencies. Each `RUN` command creates a new layer.\n",
    "-   **COPY nginx.conf /etc/nginx/nginx.conf**: Copies files from the host into the container's filesystem. This creates a new layer with the added files.\n",
    "-   **EXPOSE 80**: Informs Docker that the container will listen on port 80 at runtime.\n",
    "-   **CMD [\"nginx\", \"-g\", \"daemon off;\"]**: Sets the default command to run when the container starts.\n",
    "\n",
    "### Managing Docker Images\n",
    "\n",
    "#### Listing Docker Images\n",
    "\n",
    "To list all Docker images on your system, use the `docker images` command:"
   ]
  },
  {
   "cell_type": "code",
   "execution_count": null,
   "id": "829d19b4-f93f-49ee-bd42-fae3866efba7",
   "metadata": {},
   "outputs": [],
   "source": [
    "docker images"
   ]
  },
  {
   "cell_type": "markdown",
   "id": "87d51fd2-0ef5-4931-aa86-3f58d3ca90d3",
   "metadata": {},
   "source": [
    "#### Tagging Docker Images\n",
    "\n",
    "You can tag a Docker image to create an alias for a specific image ID:"
   ]
  },
  {
   "cell_type": "code",
   "execution_count": null,
   "id": "f7967192-cd19-4080-b98f-59b57fcbf251",
   "metadata": {},
   "outputs": [],
   "source": [
    "docker tag custom-nginx myrepo/custom-nginx:v1.0"
   ]
  },
  {
   "cell_type": "markdown",
   "id": "42757b9a-9ca4-4067-be49-38bd91cd2ef2",
   "metadata": {},
   "source": [
    "#### Pushing Docker Images to a Repository\n",
    "\n",
    "Docker images can be pushed to a registry like Docker Hub for sharing with others:"
   ]
  },
  {
   "cell_type": "code",
   "execution_count": null,
   "id": "20d850e8-df63-4a47-b1c5-c4c77e9241e3",
   "metadata": {},
   "outputs": [],
   "source": [
    "docker push myrepo/custom-nginx:v1.0"
   ]
  },
  {
   "cell_type": "markdown",
   "id": "ed7470f2-e1a0-4ad3-948c-1729dd6db059",
   "metadata": {},
   "source": [
    "#### Pulling Docker Images\n",
    "\n",
    "To pull a Docker image from a registry:"
   ]
  },
  {
   "cell_type": "code",
   "execution_count": null,
   "id": "4f2c7e96-cdde-4e08-b748-1fd9a892c612",
   "metadata": {},
   "outputs": [],
   "source": [
    "docker pull nginx:latest"
   ]
  },
  {
   "cell_type": "markdown",
   "id": "517566d4-3273-48e5-9d3f-145e1b1b0124",
   "metadata": {},
   "source": [
    "### Real-World Use Cases for Docker Images\n",
    "\n",
    "1.  **Development**: Developers can share Docker images containing their development environment, ensuring consistency across different machines.\n",
    "2.  **Continuous Integration**: CI/CD pipelines can use Docker images to build, test, and deploy applications in a consistent environment.\n",
    "3.  **Microservices**: Each microservice can be packaged into its own Docker image, allowing for isolated and independent deployment and scaling.\n",
    "4.  **Legacy Applications**: Docker images can encapsulate legacy applications, making it easier to run them on modern infrastructure without changes.\n",
    "\n",
    "### Docker Image vs. Docker Container\n",
    "\n",
    "-   **Docker Image**: A static, immutable file that contains the instructions and dependencies to run an application. It is the blueprint for a container.\n",
    "-   **Docker Container**: A runtime instance of a Docker image. Containers are created from images and can be started, stopped, moved, and deleted."
   ]
  },
  {
   "cell_type": "markdown",
   "id": "2353fab2-efa1-451b-b5b5-70b1c372d06e",
   "metadata": {},
   "source": [
    "### Dockerfile\n",
    "\n",
    "A **Dockerfile** is a text document that contains a series of instructions on how to build a Docker image. Each instruction in a Dockerfile creates a layer in the image, which makes building and managing images efficient and modular.\n",
    "\n",
    "### Key Concepts and Components of a Dockerfile\n",
    "\n",
    "1.  **Base Image**: The starting point for your Docker image, typically a minimal OS or a framework-specific image.\n",
    "2.  **Instructions**: Commands that define how to build the image, such as copying files, running commands, setting environment variables, and more.\n",
    "3.  **Layers**: Each instruction in a Dockerfile creates a new layer in the image. Layers are cached and can be reused to speed up the build process.\n",
    "\n",
    "### Common Dockerfile Instructions\n",
    "\n",
    "-   **FROM**: Specifies the base image to use.\n",
    "-   **LABEL**: Adds metadata to an image.\n",
    "-   **RUN**: Executes a command in a new layer.\n",
    "-   **COPY**: Copies files and directories from the host to the image.\n",
    "-   **ADD**: Similar to COPY but also supports URLs and tar archives.\n",
    "-   **WORKDIR**: Sets the working directory for subsequent instructions.\n",
    "-   **ENV**: Sets environment variables.\n",
    "-   **EXPOSE**: Documents which ports the container listens on.\n",
    "-   **CMD**: Specifies the default command to run when the container starts.\n",
    "-   **ENTRYPOINT**: Configures a container to run as an executable.\n",
    "-   **VOLUME**: Creates a mount point with the specified path and marks it as holding externally mounted volumes.\n",
    "-   **USER**: Sets the user name or UID to use when running the image.\n",
    "-   **ARG**: Defines a variable that users can pass at build-time to the builder.\n",
    "\n",
    "### Example Dockerfile\n",
    "\n",
    "Let's go through a simple example of a Dockerfile for a Node.js application.\n",
    "\n",
    "#### Dockerfile"
   ]
  },
  {
   "cell_type": "code",
   "execution_count": null,
   "id": "883ecd91-ae62-4a6a-94fb-6a9a38c8b1eb",
   "metadata": {},
   "outputs": [],
   "source": [
    "# Use the official Node.js image as the base image\n",
    "FROM node:14\n",
    "\n",
    "# Set the working directory in the container\n",
    "WORKDIR /app\n",
    "\n",
    "# Copy the package.json and package-lock.json files to the working directory\n",
    "COPY package*.json ./\n",
    "\n",
    "# Install the dependencies\n",
    "RUN npm install\n",
    "\n",
    "# Copy the rest of the application code to the working directory\n",
    "COPY . .\n",
    "\n",
    "# Expose port 3000 for the application\n",
    "EXPOSE 3000\n",
    "\n",
    "# Define the command to run the application\n",
    "CMD [\"node\", \"app.js\"]\n",
    "    "
   ]
  },
  {
   "cell_type": "markdown",
   "id": "2d3dff9b-4982-4479-b3f8-8b683f3edb1b",
   "metadata": {},
   "source": [
    "### Detailed Explanation of the Example\n",
    "\n",
    "1.  **FROM node:14**:\n",
    "\n",
    "    -   Specifies the base image to use. In this case, it's the official Node.js image with version 14.\n",
    "2.  **WORKDIR /app**:\n",
    "\n",
    "    -   Sets the working directory inside the container to `/app`. All subsequent instructions will be executed in this directory.\n",
    "3.  **COPY package*.json ./**:\n",
    "\n",
    "    -   Copies `package.json` and `package-lock.json` files from the host to the working directory inside the container. The wildcard `*` allows copying both files if they exist.\n",
    "4.  **RUN npm install**:\n",
    "\n",
    "    -   Runs the command `npm install` to install the dependencies listed in `package.json`. This command creates a new layer in the image.\n",
    "5.  **COPY . .**:\n",
    "\n",
    "    -   Copies the entire contents of the current directory on the host to the working directory in the container. This includes the application code.\n",
    "6.  **EXPOSE 3000**:\n",
    "\n",
    "    -   Documents that the container listens on port 3000. This does not actually publish the port but is used for documentation purposes.\n",
    "7.  **CMD [\"node\", \"app.js\"]**:\n",
    "\n",
    "    -   Specifies the default command to run when the container starts. In this case, it runs the Node.js application by executing `node app.js`.\n",
    "\n",
    "### Building and Running the Docker Image\n",
    "\n",
    "#### Building the Image\n",
    "\n",
    "To build a Docker image from the Dockerfile, use the `docker build` command:"
   ]
  },
  {
   "cell_type": "code",
   "execution_count": null,
   "id": "7803b83c-94cd-4978-8e1e-94dc267d3ad9",
   "metadata": {},
   "outputs": [],
   "source": [
    "docker build -t my-node-app ."
   ]
  },
  {
   "cell_type": "markdown",
   "id": "bb34d094-f817-480c-8858-88db5e46ac69",
   "metadata": {},
   "source": [
    "-   `-t my-node-app`: Tags the image with the name `my-node-app`.\n",
    "-   `.`: Specifies the build context, which includes the Dockerfile and any files referenced in it.\n",
    "\n",
    "#### Running the Container\n",
    "\n",
    "To run a container from the newly built image, use the `docker run` command:"
   ]
  },
  {
   "cell_type": "code",
   "execution_count": null,
   "id": "af7145cf-bc31-4849-9021-7fbccb27ecaf",
   "metadata": {},
   "outputs": [],
   "source": [
    "docker run -d -p 3000:3000 my-node-app"
   ]
  },
  {
   "cell_type": "markdown",
   "id": "2c5d28c5-1acf-459d-a858-ded6a33e9e5e",
   "metadata": {},
   "source": [
    "-   `-d`: Runs the container in detached mode (in the background).\n",
    "-   `-p 3000:3000`: Maps port 3000 on the host to port 3000 in the container, allowing access to the application.\n",
    "\n",
    "### Advanced Dockerfile Features\n",
    "\n",
    "#### Multi-Stage Builds\n",
    "\n",
    "Multi-stage builds allow you to use multiple `FROM` statements in a Dockerfile to create smaller, more efficient images. This is particularly useful for compiling applications and then only including the necessary runtime components in the final image.\n",
    "\n",
    "Example:"
   ]
  },
  {
   "cell_type": "code",
   "execution_count": null,
   "id": "ba943ed1-fe6f-45a1-b802-d1b7337bc3d0",
   "metadata": {},
   "outputs": [],
   "source": [
    "# Stage 1: Build\n",
    "FROM node:14 AS build\n",
    "WORKDIR /app\n",
    "COPY package*.json ./\n",
    "RUN npm install\n",
    "COPY . .\n",
    "RUN npm run build\n",
    "\n",
    "# Stage 2: Production\n",
    "FROM node:14\n",
    "WORKDIR /app\n",
    "COPY --from=build /app/build ./build\n",
    "COPY --from=build /app/package*.json ./\n",
    "RUN npm install --only=production\n",
    "CMD [\"node\", \"build/app.js\"]"
   ]
  },
  {
   "cell_type": "markdown",
   "id": "cdb49a9c-39da-4362-bd0e-e771366e495c",
   "metadata": {},
   "source": [
    "In this example:\n",
    "\n",
    "-   The first stage (`build`) compiles the application.\n",
    "-   The second stage (`production`) copies only the necessary files from the build stage and installs the production dependencies, resulting in a smaller image.\n",
    "\n",
    "#### ARG vs ENV\n",
    "\n",
    "-   **ARG**: Used to define build-time variables.\n",
    "-   **ENV**: Used to define environment variables for the running container.\n",
    "\n",
    "Example:"
   ]
  },
  {
   "cell_type": "code",
   "execution_count": null,
   "id": "28d1413f-b3c6-4fc0-b3c2-523bde5cf40e",
   "metadata": {},
   "outputs": [],
   "source": [
    "ARG NODE_VERSION=14\n",
    "FROM node:$NODE_VERSION\n",
    "ENV NODE_ENV=production"
   ]
  },
  {
   "cell_type": "markdown",
   "id": "a5aeea1b-4c96-4fe6-8cc6-7a17a12fdc8f",
   "metadata": {},
   "source": [
    "### Summary\n",
    "\n",
    "-   **Dockerfile**: A text file with a set of instructions to build a Docker image.\n",
    "-   **Key Instructions**: FROM, LABEL, RUN, COPY, ADD, WORKDIR, ENV, EXPOSE, CMD, ENTRYPOINT, VOLUME, USER, ARG.\n",
    "-   **Building Images**: Use `docker build` to create an image from a Dockerfile.\n",
    "-   **Running Containers**: Use `docker run` to create and start a container from an image.\n",
    "-   **Multi-Stage Builds**: Optimize the image size and complexity by using multiple build stages."
   ]
  },
  {
   "cell_type": "markdown",
   "id": "95932136-6cd6-4737-9d51-d7e2f17dbdec",
   "metadata": {},
   "source": [
    "### Docker Networking\n",
    "\n",
    "Docker networking enables communication between Docker containers, as well as between containers and the outside world. Docker provides several networking options to cater to different use cases and environments. Understanding these networking options is crucial for designing and deploying containerized applications effectively.\n",
    "\n",
    "### Key Networking Concepts in Docker\n",
    "\n",
    "1.  **Network Drivers**: Docker supports multiple network drivers to cater to various networking needs.\n",
    "2.  **Bridge Networks**: Default network type for containers within the same host.\n",
    "3.  **Overlay Networks**: Used for multi-host networking, useful in Docker Swarm and Kubernetes.\n",
    "4.  **Host Network**: Containers share the host's network stack.\n",
    "5.  **None Network**: Containers have no network connectivity.\n",
    "6.  **Macvlan Network**: Assigns a MAC address to each container, making them appear as physical devices on the network.\n",
    "7.  **User-Defined Networks**: Custom networks created by the user for better control and isolation.\n",
    "\n",
    "### Network Drivers\n",
    "\n",
    "1.  **Bridge**: The default network driver. Creates an isolated network that containers connect to by default.\n",
    "2.  **Host**: Uses the host's networking directly, bypassing isolation. Suitable for performance-sensitive applications.\n",
    "3.  **Overlay**: Enables communication between containers across multiple Docker hosts. Used in swarm mode.\n",
    "4.  **Macvlan**: Assigns each container a unique MAC address, useful for network appliances.\n",
    "5.  **None**: No network configuration. Used for security or custom network setups.\n",
    "\n",
    "### Example: Bridge Network\n",
    "\n",
    "#### What is a Bridge Network?\n",
    "\n",
    "A bridge network is the default network type in Docker. It allows containers on the same host to communicate with each other. Each container gets a unique IP address within the bridge network.\n",
    "\n",
    "#### Using Bridge Network\n",
    "\n",
    "1.  **Default Bridge Network**: Containers automatically join the default bridge network unless specified otherwise."
   ]
  },
  {
   "cell_type": "code",
   "execution_count": null,
   "id": "8aa871c3-7fef-4a4e-ad05-a09387701dee",
   "metadata": {},
   "outputs": [],
   "source": [
    "docker run -d --name container1 nginx\n",
    "docker run -d --name container2 nginx"
   ]
  },
  {
   "cell_type": "markdown",
   "id": "6c1e6980-d50e-477a-b564-2e9687917535",
   "metadata": {},
   "source": [
    "-   -   Both `container1` and `container2` are connected to the default bridge network.\n",
    "    -   Containers can communicate using their IP addresses or container names.-   **User-Defined Bridge Network**: Provides better isolation and control."
   ]
  },
  {
   "cell_type": "code",
   "execution_count": null,
   "id": "9f50985b-e3d1-461f-bcc8-cda72815eac2",
   "metadata": {},
   "outputs": [],
   "source": [
    "docker network create my-bridge-network\n",
    "docker run -d --name container1 --network my-bridge-network nginx\n",
    "docker run -d --name container2 --network my-bridge-network nginx"
   ]
  },
  {
   "cell_type": "markdown",
   "id": "1d003f22-857b-45d2-9f16-9e686c5856c7",
   "metadata": {},
   "source": [
    "1.  -   `my-bridge-network` is a user-defined bridge network.\n",
    "    -   Containers connected to this network can communicate with each other but are isolated from containers in other networks.\n",
    "\n",
    "### Example: Host Network\n",
    "\n",
    "#### What is a Host Network?\n",
    "\n",
    "The host network driver removes the network isolation between the container and the Docker host. Containers use the host's networking stack directly.\n",
    "\n",
    "#### Using Host Network\n",
    "\n",
    "1.  **Running a Container with Host Network**:"
   ]
  },
  {
   "cell_type": "code",
   "execution_count": null,
   "id": "06276dd8-a7ab-491b-b62d-02424c731d0f",
   "metadata": {},
   "outputs": [],
   "source": [
    "docker run -d --name container-host --network host nginx"
   ]
  },
  {
   "cell_type": "markdown",
   "id": "3236eb50-7f87-4471-9da8-c78b85054c85",
   "metadata": {},
   "source": [
    "1.  -   `container-host` shares the host's network stack.\n",
    "    -   The container can use the host's IP addresses and ports directly.\n",
    "\n",
    "### Example: Overlay Network\n",
    "\n",
    "#### What is an Overlay Network?\n",
    "\n",
    "An overlay network enables communication between containers running on different Docker hosts. This is useful in clustered environments like Docker Swarm or Kubernetes.\n",
    "\n",
    "#### Using Overlay Network\n",
    "\n",
    "1.  **Creating an Overlay Network**:"
   ]
  },
  {
   "cell_type": "code",
   "execution_count": null,
   "id": "9759af2a-c0a4-48ac-bb3a-84fb6d2c02da",
   "metadata": {},
   "outputs": [],
   "source": [
    "docker network create -d overlay my-overlay-network"
   ]
  },
  {
   "cell_type": "markdown",
   "id": "f592ea1e-e09b-497b-8138-d33cbc8a65d2",
   "metadata": {},
   "source": [
    "-   -   `my-overlay-network` is created as an overlay network.\r\n",
    "    -   Containers on different Docker hosts can join this network.-   **Running Containers in Swarm Mode**:"
   ]
  },
  {
   "cell_type": "code",
   "execution_count": null,
   "id": "760fc293-b5f1-4a2c-83f1-31f0846a7f7a",
   "metadata": {},
   "outputs": [],
   "source": [
    "docker service create --name service1 --network my-overlay-network nginx\n",
    "docker service create --name service2 --network my-overlay-network nginx"
   ]
  },
  {
   "cell_type": "markdown",
   "id": "8fac7214-4092-47bb-8b66-8cef2679ee77",
   "metadata": {},
   "source": [
    "1.  -   Services `service1` and `service2` can communicate across Docker hosts in the swarm.\n",
    "\n",
    "### Example: Macvlan Network\n",
    "\n",
    "#### What is a Macvlan Network?\n",
    "\n",
    "A Macvlan network allows containers to have their own MAC addresses, appearing as physical devices on the network. This is useful for network appliances and legacy applications that require direct layer 2 network access.\n",
    "\n",
    "#### Using Macvlan Network\n",
    "\n",
    "1.  **Creating a Macvlan Network**:"
   ]
  },
  {
   "cell_type": "code",
   "execution_count": null,
   "id": "bc6fa45f-d389-4fbb-a980-d820658b7682",
   "metadata": {},
   "outputs": [],
   "source": [
    "docker network create -d macvlan \\\n",
    "  --subnet=192.168.1.0/24 \\\n",
    "  --gateway=192.168.1.1 \\\n",
    "  -o parent=eth0 my-macvlan-network"
   ]
  },
  {
   "cell_type": "markdown",
   "id": "c59d6bfd-1222-4582-beea-761555f4c674",
   "metadata": {},
   "source": [
    "-   -   `my-macvlan-network` is created with a specific subnet and gateway.-   **Running a Container with Macvlan Network**:"
   ]
  },
  {
   "cell_type": "markdown",
   "id": "e4a4adc2-73bf-4da9-a070-b1d6552cf914",
   "metadata": {},
   "source": [
    "### Real-World Use Cases for Docker Networking\n",
    "\n",
    "#### Development Environment\n",
    "\n",
    "-   **Isolation**: Developers can create isolated networks for different development projects, preventing interference.\n",
    "-   **Collaboration**: Teams can share and run containers in the same network, ensuring consistent environments.\n",
    "\n",
    "#### Microservices Architecture\n",
    "\n",
    "-   **Service Communication**: Microservices can communicate within isolated networks, enhancing security and performance.\n",
    "-   **Scalability**: Overlay networks enable services to scale across multiple hosts.\n",
    "\n",
    "#### Legacy Applications\n",
    "\n",
    "-   **Network Appliances**: Macvlan networks allow containers to appear as physical devices, useful for legacy network appliances.\n",
    "-   **Performance**: Host networks can be used for performance-sensitive applications requiring direct access to host networking.\n",
    "\n",
    "### Advanced Example: Docker Compose for Multi-Container Applications\n",
    "\n",
    "Docker Compose allows you to define and manage multi-container Docker applications. Here's an example of using Docker Compose with networks.\n",
    "\n",
    "#### docker-compose.yml"
   ]
  },
  {
   "cell_type": "code",
   "execution_count": null,
   "id": "2e0d66f2-be8e-4af0-99bc-9c9dce99bfb7",
   "metadata": {},
   "outputs": [],
   "source": [
    "version: '3'\n",
    "services:\n",
    "  web:\n",
    "    image: nginx\n",
    "    networks:\n",
    "      - frontend\n",
    "  db:\n",
    "    image: mysql\n",
    "    environment:\n",
    "      MYSQL_ROOT_PASSWORD: example\n",
    "    networks:\n",
    "      - backend\n",
    "\n",
    "networks:\n",
    "  frontend:\n",
    "  backend:\n"
   ]
  },
  {
   "cell_type": "markdown",
   "id": "1cc8dd6c-104e-494d-a807-0c7bd8f3f6e9",
   "metadata": {},
   "source": [
    "Running the Application"
   ]
  },
  {
   "cell_type": "code",
   "execution_count": null,
   "id": "fdf41c57-465e-4220-ab02-53693c5b81d7",
   "metadata": {},
   "outputs": [],
   "source": [
    "docker-compose up -d"
   ]
  },
  {
   "cell_type": "markdown",
   "id": "48e220f1-5de3-4dbf-baa7-cbd977d55f5a",
   "metadata": {},
   "source": [
    "-   **web** service connects to the `frontend` network.\n",
    "-   **db** service connects to the `backend` network.\n",
    "-   **frontend** and **backend** are isolated networks, ensuring separation of services.\n",
    "\n",
    "### Summary\n",
    "\n",
    "-   **Docker Networking**: Provides various options to cater to different use cases, including bridge, host, overlay, Macvlan, and none networks.\n",
    "-   **Bridge Network**: Default network type for container communication within the same host.\n",
    "-   **Host Network**: Shares the host's network stack, bypassing isolation.\n",
    "-   **Overlay Network**: Enables communication between containers across multiple Docker hosts.\n",
    "-   **Macvlan Network**: Assigns unique MAC addresses to containers, making them appear as physical devices.\n",
    "-   **User-Defined Networks**: Offer better control and isolation for specific applications."
   ]
  },
  {
   "cell_type": "markdown",
   "id": "fbab4e31-bc74-4128-b34b-a677f893742d",
   "metadata": {},
   "source": [
    "### Docker Volumes\n",
    "\n",
    "Docker volumes are a mechanism for persisting data generated and used by Docker containers. Volumes provide a way to store data outside the container's filesystem, ensuring that the data remains available even if the container is stopped, restarted, or removed.\n",
    "\n",
    "### Key Concepts and Characteristics of Docker Volumes\n",
    "\n",
    "1.  **Persistence**: Data stored in volumes persists across container restarts and removals.\n",
    "2.  **Decoupling**: Volumes decouple the data lifecycle from the container lifecycle.\n",
    "3.  **Sharing**: Volumes can be shared between multiple containers.\n",
    "4.  **Isolation**: Volumes provide isolated storage, separate from the host's filesystem.\n",
    "5.  **Performance**: Volumes offer better performance compared to bind mounts for storing data in containerized applications.\n",
    "\n",
    "### Types of Docker Volumes\n",
    "\n",
    "1.  **Anonymous Volumes**: Volumes that are created and managed by Docker, typically with a randomly generated name.\n",
    "2.  **Named Volumes**: Volumes that are explicitly named by the user, making them easier to manage and reference.\n",
    "3.  **Host Volumes (Bind Mounts)**: Volumes that map a directory or file from the host's filesystem into the container.\n",
    "\n",
    "### Managing Docker Volumes\n",
    "\n",
    "#### Creating and Using Volumes\n",
    "\n",
    "##### Creating a Named Volume"
   ]
  },
  {
   "cell_type": "code",
   "execution_count": null,
   "id": "7eed6727-bc31-44b0-abd2-b5dac989779c",
   "metadata": {},
   "outputs": [],
   "source": [
    "docker volume create my-volume"
   ]
  },
  {
   "cell_type": "markdown",
   "id": "3aa53897-58c9-48bb-94e4-10b1b49eee70",
   "metadata": {},
   "source": [
    "This command creates a named volume called `my-volume`.\r\n",
    "\r\n",
    "##### Using a Named Volume in a Container"
   ]
  },
  {
   "cell_type": "code",
   "execution_count": null,
   "id": "bb32cb4e-3cbe-44ef-ab82-cbd5507bf0ad",
   "metadata": {},
   "outputs": [],
   "source": [
    "docker run -d --name my-container -v my-volume:/app/data nginx"
   ]
  },
  {
   "cell_type": "markdown",
   "id": "8ae71100-eaa7-4552-b34f-d0bc56f3564e",
   "metadata": {},
   "source": [
    "-   `-v my-volume:/app/data`: Mounts the named volume `my-volume` to the `/app/data` directory inside the container.\r\n",
    "\r\n",
    "##### Using an Anonymous Volume in a Container"
   ]
  },
  {
   "cell_type": "code",
   "execution_count": null,
   "id": "b2e6b30d-eeb7-4dd7-855d-445363e04c03",
   "metadata": {},
   "outputs": [],
   "source": [
    "docker run -d --name my-container -v /app/data nginx"
   ]
  },
  {
   "cell_type": "markdown",
   "id": "488f2aa6-60be-4e10-80ad-c0f91c776d33",
   "metadata": {},
   "source": [
    "-   `-v /app/data`: Creates and mounts an anonymous volume to the `/app/data` directory inside the container.\n",
    "\n",
    "##### Using a Host Volume (Bind Mount)"
   ]
  },
  {
   "cell_type": "code",
   "execution_count": null,
   "id": "030c37a0-7f14-46f4-a635-f92ddd1b876b",
   "metadata": {},
   "outputs": [],
   "source": [
    "docker run -d --name my-container -v /path/on/host:/app/data nginx"
   ]
  },
  {
   "cell_type": "markdown",
   "id": "5094ffd5-d6e3-43a5-bc2f-57c2a4ffdf3e",
   "metadata": {},
   "source": [
    "-   `-v /path/on/host:/app/data`: Mounts the directory `/path/on/host` from the host to the `/app/data` directory inside the container.\n",
    "\n",
    "### Inspecting Volumes\n",
    "\n",
    "To inspect a volume and get detailed information about it:"
   ]
  },
  {
   "cell_type": "code",
   "execution_count": null,
   "id": "bff227d2-d3b7-4926-93b8-6758fd5cf840",
   "metadata": {},
   "outputs": [],
   "source": [
    "docker volume inspect my-volume"
   ]
  },
  {
   "cell_type": "markdown",
   "id": "81ba3b43-def8-4985-bd41-136a084fa9ba",
   "metadata": {},
   "source": [
    "### Listing Volumes\n",
    "\n",
    "To list all volumes managed by Docker:"
   ]
  },
  {
   "cell_type": "code",
   "execution_count": null,
   "id": "f17e5369-8985-4d84-954e-92ca973c0c25",
   "metadata": {},
   "outputs": [],
   "source": [
    "docker volume ls"
   ]
  },
  {
   "cell_type": "markdown",
   "id": "08379c55-27a9-4bc8-b109-c294c919560c",
   "metadata": {},
   "source": [
    "### Removing Volumes\n",
    "\n",
    "To remove a specific volume:"
   ]
  },
  {
   "cell_type": "code",
   "execution_count": null,
   "id": "ed760a16-4c04-4196-854e-949095671195",
   "metadata": {},
   "outputs": [],
   "source": [
    "docker volume rm my-volume"
   ]
  },
  {
   "cell_type": "markdown",
   "id": "6c6d7f4b-9589-4234-a111-2ba5fe7a79c6",
   "metadata": {},
   "source": [
    "To remove all unused volumes:"
   ]
  },
  {
   "cell_type": "code",
   "execution_count": null,
   "id": "37d41be2-cb4d-4069-9803-f7a15fce8a98",
   "metadata": {},
   "outputs": [],
   "source": [
    "docker volume prune"
   ]
  },
  {
   "cell_type": "markdown",
   "id": "002036bd-d1fb-44ce-a3aa-605bbe05b887",
   "metadata": {},
   "source": [
    "### Example Use Case: Persisting MySQL Data\n",
    "\n",
    "Let's create a Docker container for a MySQL database that uses a volume to persist data.\n",
    "\n",
    "#### Step 1: Create a Named Volume"
   ]
  },
  {
   "cell_type": "code",
   "execution_count": null,
   "id": "39a493a4-fd1d-45c8-816f-6c64478bf4a6",
   "metadata": {},
   "outputs": [],
   "source": [
    "docker volume create mysql-data"
   ]
  },
  {
   "cell_type": "markdown",
   "id": "993293b6-2322-47f0-99c8-002ff23060a1",
   "metadata": {},
   "source": [
    "Step 2: Run a MySQL Container with the Volume"
   ]
  },
  {
   "cell_type": "code",
   "execution_count": null,
   "id": "e5a2c453-42b4-4544-b730-ca26db13031a",
   "metadata": {},
   "outputs": [],
   "source": [
    "docker run -d \\\n",
    "  --name mysql-container \\\n",
    "  -e MYSQL_ROOT_PASSWORD=my-secret-pw \\\n",
    "  -v mysql-data:/var/lib/mysql \\\n",
    "  mysql:latest"
   ]
  },
  {
   "cell_type": "markdown",
   "id": "3f5579a3-0196-4710-bab9-462e56308973",
   "metadata": {},
   "source": [
    "-   `-e MYSQL_ROOT_PASSWORD=my-secret-pw`: Sets the root password for the MySQL server.\n",
    "-   `-v mysql-data:/var/lib/mysql`: Mounts the named volume `mysql-data` to the `/var/lib/mysql` directory inside the container, which is where MySQL stores its data.\n",
    "\n",
    "#### Step 3: Inspect the Volume\n",
    "\n",
    "To verify that the volume is being used"
   ]
  },
  {
   "cell_type": "code",
   "execution_count": null,
   "id": "059894fb-d2b5-4536-8eba-d15d1b650b43",
   "metadata": {},
   "outputs": [],
   "source": [
    "docker volume inspect mysql-data"
   ]
  },
  {
   "cell_type": "markdown",
   "id": "4480b433-1197-407b-a2cb-4fb19c3c1e97",
   "metadata": {},
   "source": [
    "#### Step 4: Stop and Remove the Container"
   ]
  },
  {
   "cell_type": "code",
   "execution_count": null,
   "id": "9a7a0478-7489-48c1-afc5-9bbbbf831a97",
   "metadata": {},
   "outputs": [],
   "source": [
    "docker stop mysql-container\n",
    "docker rm mysql-container"
   ]
  },
  {
   "cell_type": "markdown",
   "id": "81b6ca8b-3254-4874-966c-03377485d2a8",
   "metadata": {},
   "source": [
    "#### Step 5: Run a New MySQL Container with the Same Volume"
   ]
  },
  {
   "cell_type": "code",
   "execution_count": null,
   "id": "85dda5d6-a9f5-4529-91a3-58fa1599c51a",
   "metadata": {},
   "outputs": [],
   "source": [
    "docker run -d \\\n",
    "  --name mysql-container-new \\\n",
    "  -e MYSQL_ROOT_PASSWORD=my-secret-pw \\\n",
    "  -v mysql-data:/var/lib/mysql \\\n",
    "  mysql:latest"
   ]
  },
  {
   "cell_type": "markdown",
   "id": "8b69833b-3051-4a76-a74f-bb9cd7753339",
   "metadata": {},
   "source": [
    "-   The new container will use the existing `mysql-data` volume, preserving the data from the previous container.\n",
    "\n",
    "### Example: Docker Compose with Volumes\n",
    "\n",
    "Docker Compose allows you to define and manage multi-container Docker applications, including volumes, using a `docker-compose.yml` file.\n",
    "\n",
    "#### docker-compose.yml"
   ]
  },
  {
   "cell_type": "code",
   "execution_count": null,
   "id": "8d88e400-9bc6-43c4-927d-af80cec4d22c",
   "metadata": {},
   "outputs": [],
   "source": [
    "version: '3'\n",
    "services:\n",
    "  db:\n",
    "    image: mysql:latest\n",
    "    environment:\n",
    "      MYSQL_ROOT_PASSWORD: my-secret-pw\n",
    "    volumes:\n",
    "      - db-data:/var/lib/mysql\n",
    "\n",
    "  web:\n",
    "    image: nginx:latest\n",
    "    volumes:\n",
    "      - web-data:/usr/share/nginx/html\n",
    "\n",
    "volumes:\n",
    "  db-data:\n",
    "  web-data:\n"
   ]
  },
  {
   "cell_type": "markdown",
   "id": "78c0eb18-2036-42a0-8c72-6c7f29a66875",
   "metadata": {},
   "source": [
    "#### Running the Application\n",
    "\n",
    "To start the application with Docker Compose:"
   ]
  },
  {
   "cell_type": "code",
   "execution_count": null,
   "id": "81ae5d04-e92b-49ed-af45-e8db12dce1a4",
   "metadata": {},
   "outputs": [],
   "source": [
    "docker-compose up -d"
   ]
  },
  {
   "cell_type": "markdown",
   "id": "3e16a374-d526-4b8b-85eb-2310726d5768",
   "metadata": {},
   "source": [
    "-   **db** service uses the `db-data` volume to persist MySQL data.\n",
    "-   **web** service uses the `web-data` volume for Nginx web server data.\n",
    "\n",
    "### Summary\n",
    "\n",
    "-   **Docker Volumes**: Provide persistent storage for Docker containers, decoupling the data lifecycle from the container lifecycle.\n",
    "-   **Types of Volumes**: Anonymous, named, and host volumes (bind mounts).\n",
    "-   **Managing Volumes**: Create, inspect, list, and remove volumes using Docker commands.\n",
    "-   **Use Cases**: Persisting database data, sharing data between containers, and isolating storage from the host's filesystem.\n",
    "-   **Docker Compose**: Simplifies multi-container applications, including volume management, with a YAML file."
   ]
  },
  {
   "cell_type": "code",
   "execution_count": null,
   "id": "74ad8628-8c6e-43d5-a4de-9e31d68d13cf",
   "metadata": {},
   "outputs": [],
   "source": []
  }
 ],
 "metadata": {
  "kernelspec": {
   "display_name": "Python 3 (ipykernel)",
   "language": "python",
   "name": "python3"
  },
  "language_info": {
   "codemirror_mode": {
    "name": "ipython",
    "version": 3
   },
   "file_extension": ".py",
   "mimetype": "text/x-python",
   "name": "python",
   "nbconvert_exporter": "python",
   "pygments_lexer": "ipython3",
   "version": "3.11.7"
  }
 },
 "nbformat": 4,
 "nbformat_minor": 5
}
