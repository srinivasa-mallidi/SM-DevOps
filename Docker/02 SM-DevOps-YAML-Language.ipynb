{
 "cells": [
  {
   "cell_type": "markdown",
   "id": "3cf443ce-e522-4ed3-a3fc-5d4d53ee29ea",
   "metadata": {},
   "source": [
    "### YAML Language\n",
    "\n",
    "**YAML** (YAML Ain't Markup Language) is a human-readable data serialization standard that is commonly used for configuration files and data exchange between languages with different data structures. YAML is designed to be easily readable by humans and can represent complex data structures.\n",
    "\n",
    "### Key Features of YAML\n",
    "\n",
    "1.  **Human-Readable**: YAML is designed to be easily read and written by humans.\n",
    "2.  **Hierarchical Data Representation**: YAML naturally represents nested and hierarchical data structures.\n",
    "3.  **Flexible**: Supports a variety of data types and structures, including mappings (dictionaries), sequences (lists), and scalars (strings, numbers, etc.).\n",
    "4.  **Language-Agnostic**: Can be used across various programming languages without being tied to a specific one.\n",
    "5.  **Minimal Syntax**: Uses indentation and simple syntax rules to structure data.\n",
    "\n",
    "### Basic Syntax\n",
    "\n",
    "#### Scalars\n",
    "\n",
    "Scalars are single values like strings, numbers, and booleans."
   ]
  },
  {
   "cell_type": "code",
   "execution_count": null,
   "id": "15ac9d59-b139-48b7-b71d-f52789db3ae6",
   "metadata": {},
   "outputs": [],
   "source": [
    "# Strings\n",
    "name: John Doe\n",
    "\n",
    "# Numbers\n",
    "age: 30\n",
    "height: 1.75\n",
    "\n",
    "# Booleans\n",
    "is_student: false"
   ]
  },
  {
   "cell_type": "markdown",
   "id": "f2260f3f-79e6-4799-bfa5-0a019e877847",
   "metadata": {},
   "source": [
    "#### Mappings (Dictionaries)\n",
    "\n",
    "Mappings are collections of key-value pairs, similar to dictionaries in Python."
   ]
  },
  {
   "cell_type": "code",
   "execution_count": null,
   "id": "cbb59c0d-4d41-4ca5-8c31-558fc3aaa608",
   "metadata": {},
   "outputs": [],
   "source": [
    "address:\n",
    "  street: 123 Main St\n",
    "  city: Anytown\n",
    "  state: CA\n",
    "  zip: 12345"
   ]
  },
  {
   "cell_type": "markdown",
   "id": "8ed66125-cb2f-4573-ab44-5ce2d2d34abb",
   "metadata": {},
   "source": [
    "#### Sequences (Lists)\n",
    "\n",
    "Sequences are ordered collections of items, similar to lists in Python."
   ]
  },
  {
   "cell_type": "code",
   "execution_count": null,
   "id": "ddb55f60-4f15-408d-ad9b-2b473846094f",
   "metadata": {},
   "outputs": [],
   "source": [
    "hobbies:\n",
    "  - reading\n",
    "  - hiking\n",
    "  - coding"
   ]
  },
  {
   "cell_type": "markdown",
   "id": "af242817-29ce-47bd-8aad-5885323da7e5",
   "metadata": {},
   "source": [
    "#### Nested Data Structures\n",
    "\n",
    "YAML supports nesting of mappings and sequences."
   ]
  },
  {
   "cell_type": "code",
   "execution_count": null,
   "id": "df06c1c5-ef19-49c3-97dd-ffbca064d2f7",
   "metadata": {},
   "outputs": [],
   "source": [
    "person:\n",
    "  name: John Doe\n",
    "  age: 30\n",
    "  address:\n",
    "    street: 123 Main St\n",
    "    city: Anytown\n",
    "    state: CA\n",
    "    zip: 12345\n",
    "  hobbies:\n",
    "    - reading\n",
    "    - hiking\n",
    "    - coding"
   ]
  },
  {
   "cell_type": "markdown",
   "id": "26e918bb-9028-4aa1-aab7-8d15efc63f5c",
   "metadata": {},
   "source": [
    "### Advanced Features\n",
    "\n",
    "#### Comments\n",
    "\n",
    "YAML supports comments, which are denoted by the `#` character."
   ]
  },
  {
   "cell_type": "code",
   "execution_count": null,
   "id": "0b3aa77c-8780-4d16-ae49-9f99db1675b3",
   "metadata": {},
   "outputs": [],
   "source": [
    "# This is a comment\n",
    "name: John Doe  # This is an inline comment\n"
   ]
  },
  {
   "cell_type": "markdown",
   "id": "295c1b3a-0262-4d1a-8143-82aee9cc0dd3",
   "metadata": {},
   "source": [
    "#### Multi-Line Strings\n",
    "\n",
    "YAML supports multi-line strings using `|` for literal blocks and `>` for folded blocks."
   ]
  },
  {
   "cell_type": "code",
   "execution_count": null,
   "id": "68ce6116-b381-4e76-87db-42a6fa84dde9",
   "metadata": {},
   "outputs": [],
   "source": [
    "# Literal Block\n",
    "description: |\n",
    "  This is a multi-line\n",
    "  string that preserves\n",
    "  newlines and indentation.\n",
    "\n",
    "# Folded Block\n",
    "summary: >\n",
    "  This is a multi-line\n",
    "  string that folds\n",
    "  newlines into spaces.\n"
   ]
  },
  {
   "cell_type": "markdown",
   "id": "a5faab93-6536-45ec-83e2-c2e297a6040f",
   "metadata": {},
   "source": [
    "#### Anchors and Aliases\n",
    "\n",
    "Anchors (`&`) and aliases (`*`) allow you to reuse and reference data within the document."
   ]
  },
  {
   "cell_type": "code",
   "execution_count": null,
   "id": "4ff8637b-a33a-450d-bfc9-48a1f2c4c72d",
   "metadata": {},
   "outputs": [],
   "source": [
    "defaults: &defaults\n",
    "  adapter: postgres\n",
    "  host: localhost\n",
    "\n",
    "development:\n",
    "  database: dev_db\n",
    "  <<: *defaults\n",
    "\n",
    "test:\n",
    "  database: test_db\n",
    "  <<: *defaults\n"
   ]
  },
  {
   "cell_type": "markdown",
   "id": "e5889f72-aa3a-44da-aa69-7cc46edf50cc",
   "metadata": {},
   "source": [
    "#### Custom Tags\n",
    "\n",
    "YAML supports custom tags to define the type of data."
   ]
  },
  {
   "cell_type": "code",
   "execution_count": null,
   "id": "3264b743-38c2-489f-89c4-62d1e99c247b",
   "metadata": {},
   "outputs": [],
   "source": [
    "date: !!timestamp '2023-06-20T15:30:00Z'"
   ]
  },
  {
   "cell_type": "markdown",
   "id": "937ced49-19b4-42e9-9509-6725337abc49",
   "metadata": {},
   "source": [
    "### YAML in Practice\n",
    "\n",
    "YAML is widely used in various applications and tools. Here are a few common use cases:\n",
    "\n",
    "#### Configuration Files\n",
    "\n",
    "YAML is commonly used for configuration files due to its readability and flexibility. For example, a configuration file for a web application might look like this:"
   ]
  },
  {
   "cell_type": "code",
   "execution_count": null,
   "id": "4654141e-3410-4af2-9501-e075283edf9c",
   "metadata": {},
   "outputs": [],
   "source": [
    "server:\n",
    "  host: localhost\n",
    "  port: 8080\n",
    "\n",
    "database:\n",
    "  type: postgres\n",
    "  host: db.example.com\n",
    "  port: 5432\n",
    "  name: mydatabase\n",
    "  user: dbuser\n",
    "  password: secretpassword\n",
    "\n",
    "logging:\n",
    "  level: info\n",
    "  file: /var/log/myapp.log\n"
   ]
  },
  {
   "cell_type": "markdown",
   "id": "717245f4-b5eb-4a13-a08b-acf29bb87353",
   "metadata": {},
   "source": [
    "#### Docker Compose\n",
    "\n",
    "Docker Compose uses YAML files to define multi-container Docker applications."
   ]
  },
  {
   "cell_type": "code",
   "execution_count": null,
   "id": "e097fe10-6e21-4b23-b22e-8363577ea21a",
   "metadata": {},
   "outputs": [],
   "source": [
    "version: '3.8'\n",
    "\n",
    "services:\n",
    "  db:\n",
    "    image: mysql:5.7\n",
    "    volumes:\n",
    "      - db-data:/var/lib/mysql\n",
    "    environment:\n",
    "      MYSQL_ROOT_PASSWORD: example\n",
    "      MYSQL_DATABASE: wordpress\n",
    "      MYSQL_USER: wordpress\n",
    "      MYSQL_PASSWORD: wordpress\n",
    "\n",
    "  wordpress:\n",
    "    image: wordpress:latest\n",
    "    depends_on:\n",
    "      - db\n",
    "    ports:\n",
    "      - \"8080:80\"\n",
    "    environment:\n",
    "      WORDPRESS_DB_HOST: db:3306\n",
    "      WORDPRESS_DB_USER: wordpress\n",
    "      WORDPRESS_DB_PASSWORD: wordpress\n",
    "      WORDPRESS_DB_NAME: wordpress\n",
    "\n",
    "volumes:\n",
    "  db-data:\n"
   ]
  },
  {
   "cell_type": "markdown",
   "id": "af890e6a-4409-47ca-a5f8-5267dccf991f",
   "metadata": {},
   "source": [
    "#### Kubernetes\n",
    "\n",
    "Kubernetes uses YAML files for defining resources such as pods, deployments, services, etc."
   ]
  },
  {
   "cell_type": "code",
   "execution_count": null,
   "id": "b0266cb6-d43a-4062-bd8f-9820a2eb7221",
   "metadata": {},
   "outputs": [],
   "source": [
    "apiVersion: v1\n",
    "kind: Pod\n",
    "metadata:\n",
    "  name: mypod\n",
    "spec:\n",
    "  containers:\n",
    "    - name: mycontainer\n",
    "      image: nginx\n",
    "      ports:\n",
    "        - containerPort: 80\n"
   ]
  },
  {
   "cell_type": "markdown",
   "id": "c9978c79-f804-4628-99ed-3f9ce89523f2",
   "metadata": {},
   "source": [
    "### Best Practices\n",
    "\n",
    "1.  **Consistency**: Maintain consistent indentation (usually 2 or 4 spaces).\n",
    "2.  **Clarity**: Use meaningful names for keys and keep the structure clear.\n",
    "3.  **Comments**: Use comments to explain complex or important sections.\n",
    "4.  **Avoid Complex Structures**: Keep the structure as simple as possible to maintain readability.\n",
    "\n",
    "### Summary\n",
    "\n",
    "-   **YAML**: A human-readable data serialization format used for configuration files and data exchange.\n",
    "-   **Key Features**: Human-readable, hierarchical, flexible, language-agnostic, and minimal syntax.\n",
    "-   **Basic Syntax**: Scalars, mappings, sequences, nested structures, comments, multi-line strings, anchors, aliases, and custom tags.\n",
    "-   **Use Cases**: Configuration files, Docker Compose, Kubernetes, and more.\n",
    "-   **Best Practices**: Maintain consistency, clarity, use comments, and avoid complex structures."
   ]
  },
  {
   "cell_type": "code",
   "execution_count": null,
   "id": "f6a8f1d9-eb09-4909-b654-a9eea339e5bd",
   "metadata": {},
   "outputs": [],
   "source": []
  }
 ],
 "metadata": {
  "kernelspec": {
   "display_name": "",
   "name": ""
  },
  "language_info": {
   "name": ""
  }
 },
 "nbformat": 4,
 "nbformat_minor": 5
}
